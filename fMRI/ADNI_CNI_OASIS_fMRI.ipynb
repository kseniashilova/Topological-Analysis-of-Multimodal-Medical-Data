{
 "cells": [
  {
   "cell_type": "code",
   "execution_count": null,
   "id": "2c0cf917",
   "metadata": {},
   "outputs": [],
   "source": [
    "import numpy as np\n",
    "import matplotlib.pyplot as plt\n",
    "import seaborn as sns\n",
    "import pandas as pd\n",
    "import glob\n",
    "\n",
    "import networkx as nx\n",
    "from nxviz import CircosPlot\n",
    "import community\n",
    "\n",
    "import gudhi as gd\n",
    "import gudhi.representations\n",
    "import gudhi.representations.vector_methods\n",
    "\n",
    "\n",
    "import nilearn\n",
    "from nilearn import datasets\n",
    "\n",
    "from pathlib import Path\n",
    "\n",
    "from nilearn.connectome import ConnectivityMeasure\n",
    "from nilearn import plotting"
   ]
  },
  {
   "cell_type": "code",
   "execution_count": null,
   "id": "db9813fa",
   "metadata": {},
   "outputs": [],
   "source": [
    "from sklearn.preprocessing   import MinMaxScaler\n",
    "from sklearn.pipeline        import Pipeline\n",
    "from sklearn.svm             import SVC\n",
    "from sklearn.ensemble        import RandomForestClassifier\n",
    "from sklearn.ensemble        import GradientBoostingClassifier\n",
    "\n",
    "from sklearn.neighbors       import KNeighborsClassifier\n",
    "from sklearn.model_selection import GridSearchCV"
   ]
  },
  {
   "cell_type": "code",
   "execution_count": null,
   "id": "c9786974",
   "metadata": {},
   "outputs": [],
   "source": [
    "aal_labels = nilearn.datasets.fetch_atlas_aal().labels\n",
    "#ho_labels = nilearn.datasets.fetch_atlas_harvard_oxford('cort-maxprob-thr25-2mm').labels"
   ]
  },
  {
   "cell_type": "markdown",
   "id": "7dc0867e",
   "metadata": {},
   "source": [
    "# ADNI"
   ]
  },
  {
   "cell_type": "code",
   "execution_count": null,
   "id": "98bf0dd7",
   "metadata": {},
   "outputs": [],
   "source": [
    "counter=0\n",
    "paths = []\n",
    "p = Path(\"ADNI_tables\")\n",
    "for x in p.rglob('*_aal.csv'):\n",
    "    paths.append(str(x).replace('\\\\', '/'))\n",
    "timeseries_array = []\n",
    "for path in paths:\n",
    "    df = pd.read_csv(path, index_col=0)\n",
    "    df = df.T\n",
    "    df['roi'] = aal_labels\n",
    "    df = df.set_index('roi')\n",
    "    timeseries_array.append(df)\n",
    "print(len(timeseries_array))\n",
    "timeseries_array[0]\n"
   ]
  },
  {
   "cell_type": "markdown",
   "id": "3e7634e0",
   "metadata": {},
   "source": [
    "### Phenotypes"
   ]
  },
  {
   "cell_type": "code",
   "execution_count": null,
   "id": "a695ce41",
   "metadata": {
    "scrolled": true
   },
   "outputs": [],
   "source": [
    "paths = []\n",
    "p = Path(\"ADNI_tables\")\n",
    "for x in p.rglob('*_aal.csv'):\n",
    "    paths.append(str(x).replace('\\\\', '/'))\n",
    "subjects = [path.split('/')[1].split('_aal')[0] for path in paths]\n",
    "subjects"
   ]
  },
  {
   "cell_type": "code",
   "execution_count": null,
   "id": "d3e65715",
   "metadata": {},
   "outputs": [],
   "source": [
    "phenotypic_df = pd.read_csv('CN_AD_fMRI_3_21_2023.csv')\n",
    "subjects_control = list(set(phenotypic_df[phenotypic_df['Group']=='CN']['Subject']))\n",
    "subjects_AD = list(set(phenotypic_df[phenotypic_df['Group']=='AD']['Subject']))"
   ]
  },
  {
   "cell_type": "code",
   "execution_count": null,
   "id": "2bd67b3f",
   "metadata": {},
   "outputs": [],
   "source": [
    "control = 0\n",
    "ad = 0\n",
    "no_category = 0\n",
    "for subject in subjects:\n",
    "    if subject in subjects_control:\n",
    "        control = control + 1\n",
    "    elif subject in subjects_AD:\n",
    "        ad = ad + 1\n",
    "    else:\n",
    "        no_category = no_category + 1\n",
    "\n",
    "print(control, ad, no_category)\n",
    "print(len(subjects_control), len(subjects_AD))"
   ]
  },
  {
   "cell_type": "code",
   "execution_count": null,
   "id": "498594f7",
   "metadata": {
    "scrolled": true
   },
   "outputs": [],
   "source": [
    "phenotypes_array = []\n",
    "for subject in subjects:\n",
    "    if subject in subjects_control:\n",
    "        phenotypes_array.append('CN')\n",
    "    else:\n",
    "        phenotypes_array.append('AD')\n",
    "phenotypes_array"
   ]
  },
  {
   "cell_type": "markdown",
   "id": "431519f9",
   "metadata": {},
   "source": [
    "### Data view"
   ]
  },
  {
   "cell_type": "code",
   "execution_count": null,
   "id": "34906eef",
   "metadata": {},
   "outputs": [],
   "source": [
    "class DataFMRI:\n",
    "    \n",
    "    #input parameters\n",
    "    timeseries_array = []\n",
    "    labels = None\n",
    "    phenotypes_array = []\n",
    "    connectivity_measure_kind = None\n",
    "    rips_complex_max_dimension = None\n",
    "    \n",
    "    #derived parameters\n",
    "    matrices = []\n",
    "    diagrams = []\n",
    "    simplex_trees = []\n",
    "    \n",
    "    def __init__(self, timeseries_array, labels, phenotypes_array,\n",
    "                 connectivity_measure_kind='correlation', \n",
    "                 rips_complex_max_dimension=2):\n",
    "        self.timeseries_array = timeseries_array\n",
    "        self.labels = labels\n",
    "        self.phenotypes_array = phenotypes_array\n",
    "        self.connectivity_measure_kind = connectivity_measure_kind\n",
    "        self.rips_complex_max_dimension = rips_complex_max_dimension\n",
    "        \n",
    "        # create matrix for each time_series\n",
    "        self.create_matrices()  \n",
    "        # Rips complex and persistent diagrams\n",
    "        self.create_persistence_view()\n",
    "        \n",
    "    def create_matrices(self):\n",
    "        self.matrices=[]\n",
    "        measure = ConnectivityMeasure(kind=self.connectivity_measure_kind, discard_diagonal=True)\n",
    "        for i in range(len(self.timeseries_array)):\n",
    "            matrix = measure.fit_transform([self.timeseries_array[i].values.T])[0]\n",
    "            self.matrices.append(matrix)\n",
    "            \n",
    "        \n",
    "    def create_persistence_view(self):\n",
    "        for matrix in self.matrices:\n",
    "            rips_complex = gudhi.RipsComplex(distance_matrix=1-matrix, max_edge_length=2)\n",
    "            simplex_tree = rips_complex.create_simplex_tree(max_dimension=self.rips_complex_max_dimension)\n",
    "            diag=simplex_tree.persistence()\n",
    "            self.diagrams.append(diag)\n",
    "            self.simplex_trees.append(simplex_tree)\n",
    "    \n",
    "    \n",
    "    def get_persistence_intervals(self, i, dim):\n",
    "        return self.simplex_trees[i].persistence_intervals_in_dimension(dim)\n",
    "        \n",
    "    def get_persistence_intervals_array(self, dim):\n",
    "        intervals_array=[]\n",
    "        for i in range(len(self.timeseries_array)):\n",
    "            intervals_array.append(self.get_persistence_intervals(i, dim))\n",
    "        # delete elements with 'inf'\n",
    "        intervals_array = [intervals_array[i][np.all(np.isfinite(intervals_array[i]), axis=1)] \n",
    "                           for i in range(len(intervals_array))]\n",
    "        return intervals_array\n",
    "\n",
    "    \n",
    "    # visualize\n",
    "    \n",
    "    def plot_matrix(self, i):\n",
    "        matrix=self.matrices[i].copy()\n",
    "        np.fill_diagonal(matrix, 0)\n",
    "        plotting.plot_matrix(matrix, figure=(10, 8), labels=self.labels, \n",
    "                             vmax=1, vmin=matrix.min(), reorder=True)\n",
    "        \n",
    "    def plot_persistence_diagram(self, arr_i):\n",
    "        diagrams_res = self.diagrams[arr_i[0]]\n",
    "        for i in range(1, len(arr_i)):\n",
    "            diagrams_res = diagrams_res + self.diagrams[arr_i[i]]\n",
    "        gudhi.plot_persistence_diagram(diagrams_res, legend=True)\n",
    "        \n",
    "    def plot_persistence_barcode(self, arr_i):\n",
    "        axis = gudhi.plot_persistence_barcode(self.diagrams[arr_i[0]], max_intervals=0, legend=True, alpha=0.3)\n",
    "        for i in range(1, len(arr_i)):\n",
    "            gudhi.plot_persistence_barcode(self.diagrams[arr_i[i]], max_intervals=0, legend=True, alpha=0.3, axes=axis)\n",
    "#         diagrams_res = self.diagrams[arr_i[0]]\n",
    "#         for i in range(1, len(arr_i)):\n",
    "#             diagrams_res = diagrams_res + self.diagrams[arr_i[i]]\n",
    "#         gudhi.plot_persistence_barcode(diagrams_res, max_intervals=0, legend=True)\n",
    "\n",
    "        \n",
    "    def plot_persistence_density(self, arr_i):\n",
    "        diagrams_res = self.diagrams[arr_i[0]]\n",
    "        for i in range(1, len(arr_i)):\n",
    "            diagrams_res = diagrams_res + self.diagrams[arr_i[i]]\n",
    "        gudhi.plot_persistence_barcode(diagrams_res, dimension=1, legend=True)\n",
    "        "
   ]
  },
  {
   "cell_type": "code",
   "execution_count": null,
   "id": "66350b70",
   "metadata": {},
   "outputs": [],
   "source": [
    "data_fMRI = DataFMRI(timeseries_array, aal_labels, phenotypes_array)"
   ]
  },
  {
   "cell_type": "code",
   "execution_count": null,
   "id": "06380350",
   "metadata": {},
   "outputs": [],
   "source": [
    "data_fMRI.plot_matrix(0)"
   ]
  },
  {
   "cell_type": "markdown",
   "id": "1586aa32",
   "metadata": {},
   "source": [
    "### Learning"
   ]
  },
  {
   "cell_type": "markdown",
   "id": "6ebb9fe0",
   "metadata": {},
   "source": [
    "##### dim 0"
   ]
  },
  {
   "cell_type": "code",
   "execution_count": null,
   "id": "aa24b1e4",
   "metadata": {},
   "outputs": [],
   "source": [
    "intervals_array=data_fMRI.get_persistence_intervals_array(dim=0)"
   ]
  },
  {
   "cell_type": "code",
   "execution_count": null,
   "id": "c01f515e",
   "metadata": {},
   "outputs": [],
   "source": [
    "pipe = Pipeline([(\"Separator\", gd.representations.DiagramSelector(limit=np.inf, point_type=\"finite\")),\n",
    "                 (\"Scaler\",    gd.representations.DiagramScaler(scalers=[([0,1], MinMaxScaler())])),\n",
    "                 (\"TDA\",       gd.representations.PersistenceImage()),\n",
    "                 (\"Estimator\", GradientBoostingClassifier())])\n",
    "\n",
    "\n",
    "param =    [{\"Scaler__use\":         [False, True],\n",
    "             \"TDA\":                 [\n",
    "                                     #gd.representations.PersistenceImage(),\n",
    "                                     gd.representations.Landscape(),\n",
    "                                     gd.representations.Silhouette(),\n",
    "                                     gd.representations.TopologicalVector(),\n",
    "                                     #gd.representations.vector_methods.BettiCurve()\n",
    "                                     ], \n",
    "             \n",
    "             \"Estimator\":           [GradientBoostingClassifier(),\n",
    "                                     RandomForestClassifier(),\n",
    "                                     SVC()]},]\n",
    "\n",
    "from sklearn.metrics import f1_score, make_scorer\n",
    "f1 = make_scorer(f1_score , average='macro')"
   ]
  },
  {
   "cell_type": "code",
   "execution_count": null,
   "id": "ca793816",
   "metadata": {},
   "outputs": [],
   "source": [
    "landscape = gd.representations.Landscape(resolution=200)\n",
    "#landscape.fit_transform(train_intervals)[0]\n",
    "plt.plot(landscape.fit_transform(train_intervals)[0])"
   ]
  },
  {
   "cell_type": "code",
   "execution_count": null,
   "id": "7aa7f45c",
   "metadata": {},
   "outputs": [],
   "source": [
    "#for j in range(20):\n",
    "\n",
    "phenotypes_array = [1 if el=='AD' else 0 for el in phenotypes_array]\n",
    "test_size            = 0.3\n",
    "perm                 = np.random.permutation(len(phenotypes_array))\n",
    "limit                = int(test_size * len(phenotypes_array))\n",
    "test_sub, train_sub  = perm[:limit], perm[limit:]\n",
    "train_phenotypes     = np.array(phenotypes_array)[train_sub]\n",
    "test_phenotypes      = np.array(phenotypes_array)[test_sub]\n",
    "train_intervals      = [intervals_array[i] for i in train_sub]\n",
    "test_intervals       = [intervals_array[i] for i in test_sub]\n",
    "\n",
    "model = GridSearchCV(pipe, param, cv=3, scoring=f1)\n",
    "\n",
    "model = model.fit(train_intervals, train_phenotypes)\n",
    "\n",
    "print(model.best_params_)\n",
    "print(\"Train f1 = \" + str(model.score(train_intervals, train_phenotypes)))\n",
    "print(\"Test f1  = \" + str(model.score(test_intervals,  test_phenotypes)))"
   ]
  },
  {
   "cell_type": "markdown",
   "id": "7b77d3fc",
   "metadata": {},
   "source": [
    "##### dim 1"
   ]
  },
  {
   "cell_type": "code",
   "execution_count": null,
   "id": "979fa91a",
   "metadata": {},
   "outputs": [],
   "source": [
    "intervals_array=data_fMRI.get_persistence_intervals_array(dim=1)"
   ]
  },
  {
   "cell_type": "code",
   "execution_count": null,
   "id": "f9c86c86",
   "metadata": {},
   "outputs": [],
   "source": [
    "for i in range(20):\n",
    "    test_size            = 0.3\n",
    "    perm                 = np.random.permutation(len(phenotypes_array))\n",
    "    limit                = int(test_size * len(phenotypes_array))\n",
    "    test_sub, train_sub  = perm[:limit], perm[limit:]\n",
    "    train_phenotypes     = np.array(phenotypes_array)[train_sub]\n",
    "    test_phenotypes      = np.array(phenotypes_array)[test_sub]\n",
    "    train_intervals      = [intervals_array[i] for i in train_sub]\n",
    "    test_intervals       = [intervals_array[i] for i in test_sub]\n",
    "    \n",
    "    model = GridSearchCV(pipe, param, cv=3, scoring=f1)\n",
    "    \n",
    "    model = model.fit(train_intervals, train_phenotypes)\n",
    "    \n",
    "    print(model.best_params_)\n",
    "    print(\"Train f1 = \" + str(model.score(train_intervals, train_phenotypes)))\n",
    "    print(\"Test f1  = \" + str(model.score(test_intervals,  test_phenotypes)))"
   ]
  },
  {
   "cell_type": "markdown",
   "id": "1a5c70f7",
   "metadata": {},
   "source": [
    "### diagrams"
   ]
  },
  {
   "cell_type": "code",
   "execution_count": null,
   "id": "d6b09416",
   "metadata": {},
   "outputs": [],
   "source": [
    "AD_indices = np.where(np.array(data_fMRI.phenotypes_array)=='AD')[0]\n",
    "control_indices = np.where(np.array(data_fMRI.phenotypes_array)=='CN')[0]"
   ]
  },
  {
   "cell_type": "code",
   "execution_count": null,
   "id": "2618278b",
   "metadata": {},
   "outputs": [],
   "source": [
    "hist_AD = plt.hist(np.array(data_fMRI.matrices)[AD_indices].flatten(),bins=50)\n",
    "hist_control = plt.hist(np.array(data_fMRI.matrices)[control_indices].flatten(),bins=50)"
   ]
  },
  {
   "cell_type": "code",
   "execution_count": null,
   "id": "40d0ca6e",
   "metadata": {},
   "outputs": [],
   "source": [
    "dataset = 'ADNI'\n",
    "np.save(f'fMRI_results/{dataset}/hist_control_0.npy', hist_control[0])\n",
    "np.save(f'fMRI_results/{dataset}/hist_AD_0.npy', hist_AD[0])\n",
    "np.save(f'fMRI_results/{dataset}/hist_control_1.npy', hist_control[1])\n",
    "np.save(f'fMRI_results/{dataset}/hist_AD_1.npy', hist_AD[1])"
   ]
  },
  {
   "cell_type": "code",
   "execution_count": null,
   "id": "40c2ef2b",
   "metadata": {},
   "outputs": [],
   "source": [
    "data_fMRI.plot_persistence_diagram(AD_indices)"
   ]
  },
  {
   "cell_type": "code",
   "execution_count": null,
   "id": "af3687e5",
   "metadata": {},
   "outputs": [],
   "source": [
    "np.save(f'{dataset}/diagrams/{ae_name}_control_diagram_0.npy', data_genes_control.get_persistence_intervals(0))\n",
    "np.save(f'{dataset}/diagrams/{ae_name}_control_diagram_1.npy', data_genes_control.get_persistence_intervals(1))\n",
    "np.save(f'{dataset}/diagrams/{ae_name}_AD_diagram_0.npy', data_genes_AD.get_persistence_intervals(0))\n",
    "np.save(f'{dataset}/diagrams/{ae_name}_AD_diagram_1.npy', data_genes_AD.get_persistence_intervals(1))"
   ]
  },
  {
   "cell_type": "code",
   "execution_count": null,
   "id": "b8a66b33",
   "metadata": {},
   "outputs": [],
   "source": [
    "data_fMRI.plot_persistence_diagram(control_indices)"
   ]
  },
  {
   "cell_type": "code",
   "execution_count": null,
   "id": "a1b7f8a8",
   "metadata": {},
   "outputs": [],
   "source": [
    "data_fMRI.plot_persistence_barcode(AD_indices)"
   ]
  },
  {
   "cell_type": "code",
   "execution_count": null,
   "id": "3c8ef09f",
   "metadata": {},
   "outputs": [],
   "source": [
    "data_fMRI.plot_persistence_barcode(control_indices)"
   ]
  },
  {
   "cell_type": "code",
   "execution_count": null,
   "id": "c77bbd62",
   "metadata": {},
   "outputs": [],
   "source": [
    "import matplotlib.patches as mpatches"
   ]
  },
  {
   "cell_type": "code",
   "execution_count": null,
   "id": "e0e658df",
   "metadata": {},
   "outputs": [],
   "source": [
    "diagrams_AD = data_fMRI.diagrams[AD_indices[0]]\n",
    "for i in AD_indices[1:]:\n",
    "    diagrams_AD = diagrams_AD + data_fMRI.diagrams[i]\n",
    "    \n",
    "diagrams_control = data_fMRI.diagrams[control_indices[0]]\n",
    "for i in control_indices[1:]:\n",
    "    diagrams_control = diagrams_control + data_fMRI.diagrams[i]"
   ]
  },
  {
   "cell_type": "code",
   "execution_count": null,
   "id": "74f4320a",
   "metadata": {},
   "outputs": [],
   "source": [
    "fig, ax = plt.subplots(1, 2, figsize=(10,4))\n",
    "\n",
    "\n",
    "gudhi.plot_persistence_diagram(diagrams_AD, legend=True,\n",
    "                               max_intervals=0,\n",
    "                               #colormap='red',\n",
    "                               axes=ax[0], fontsize=10)\n",
    "ax[0].set_title('AD')\n",
    "\n",
    "\n",
    "gudhi.plot_persistence_diagram(diagrams_control, legend=True, max_intervals=0, \n",
    "                               #colormap='blue',\n",
    "                                     axes=ax[1], fontsize=10)\n",
    "ax[1].set_title('Control')\n"
   ]
  },
  {
   "cell_type": "code",
   "execution_count": null,
   "id": "c51ce574",
   "metadata": {},
   "outputs": [],
   "source": [
    "diagrams_AD_0 = [item[1] for item in diagrams_AD if item[0]==0]\n",
    "diagrams_AD_1 = [item[1] for item in diagrams_AD if item[0]==1]\n",
    "diagrams_control_0 = [item[1] for item in diagrams_control if item[0]==0]\n",
    "diagrams_control_1 = [item[1] for item in diagrams_control if item[0]==1]"
   ]
  },
  {
   "cell_type": "code",
   "execution_count": null,
   "id": "d95251b7",
   "metadata": {},
   "outputs": [],
   "source": [
    "np.save(f'fMRI_results/{dataset}/control_diagram_0.npy', diagrams_control_0)\n",
    "np.save(f'fMRI_results/{dataset}/control_diagram_1.npy', diagrams_control_1)\n",
    "np.save(f'fMRI_results/{dataset}/AD_diagram_0.npy', diagrams_AD_0)\n",
    "np.save(f'fMRI_results/{dataset}/AD_diagram_1.npy', diagrams_AD_1)"
   ]
  },
  {
   "cell_type": "code",
   "execution_count": null,
   "id": "77f0c652",
   "metadata": {},
   "outputs": [],
   "source": [
    "diagrams_AD_0 = sorted(diagrams_AD_0, key=lambda x: x[0]-x[1])"
   ]
  },
  {
   "cell_type": "code",
   "execution_count": null,
   "id": "e2da3a57",
   "metadata": {},
   "outputs": [],
   "source": [
    "axis = gudhi.plot_persistence_barcode(data_fMRI.diagrams[control_indices[0]], max_intervals=0, legend=True, alpha=0.5,\n",
    "                               colormap=['red', 'red'])\n",
    "for i in range(1, len(control_indices)):\n",
    "    gudhi.plot_persistence_barcode(data_fMRI.diagrams[control_indices[i]], max_intervals=0, legend=True, alpha=0.5,\n",
    "                                   axes=axis, colormap=['red', 'red'])\n",
    "    \n",
    "gudhi.plot_persistence_barcode(data_fMRI.diagrams[AD_indices[0]], max_intervals=0, legend=True, alpha=0.5, axes=axis,\n",
    "                                     colormap=['blue', 'blue'])\n",
    "for i in range(1, len(AD_indices)):\n",
    "    gudhi.plot_persistence_barcode(data_fMRI.diagrams[AD_indices[i]], max_intervals=0, legend=True, alpha=0.5, axes=axis,\n",
    "                                  colormap=['blue', 'blue'])\n",
    "      \n",
    "        \n",
    "        \n",
    "axis.set_title('AD patients and controls')\n",
    "patch1 = mpatches.Patch(color='red', label='Control')\n",
    "patch2 = mpatches.Patch(color='blue', label='AD')\n",
    "axis.legend(handles=[patch1, patch2])"
   ]
  },
  {
   "cell_type": "code",
   "execution_count": null,
   "id": "5cc9634a",
   "metadata": {},
   "outputs": [],
   "source": [
    "np.save(f'fMRI_results/{dataset}/control_diagram_0.npy', diagrams_control_0)\n",
    "np.save(f'fMRI_results/{dataset}/control_diagram_1.npy', diagrams_control_1)\n",
    "np.save(f'fMRI_results/{dataset}/AD_diagram_0.npy', diagrams_AD_0)\n",
    "np.save(f'fMRI_results/{dataset}/AD_diagram_1.npy', diagrams_AD_1)"
   ]
  },
  {
   "cell_type": "markdown",
   "id": "b2985d4c",
   "metadata": {},
   "source": [
    "### Clusters"
   ]
  },
  {
   "cell_type": "code",
   "execution_count": null,
   "id": "2c975b1e",
   "metadata": {},
   "outputs": [],
   "source": [
    "intervals_array=data_fMRI.get_persistence_intervals_array(dim=0)"
   ]
  },
  {
   "cell_type": "code",
   "execution_count": null,
   "id": "29304b78",
   "metadata": {},
   "outputs": [],
   "source": [
    "SH = gd.representations.Silhouette(resolution=1000, weight=lambda x: np.power(x[1]-x[0],1))\n",
    "sh = SH.fit_transform(intervals_array)"
   ]
  },
  {
   "cell_type": "code",
   "execution_count": null,
   "id": "9e7da363",
   "metadata": {},
   "outputs": [],
   "source": [
    "for ind in AD_indices:\n",
    "    plt.plot(sh[ind])\n",
    "plt.title(\"Silhouette, AD\")"
   ]
  },
  {
   "cell_type": "code",
   "execution_count": null,
   "id": "bef83894",
   "metadata": {},
   "outputs": [],
   "source": [
    "for ind in control_indices:\n",
    "    plt.plot(sh[ind])\n",
    "plt.title(\"Silhouette, controls\")"
   ]
  },
  {
   "cell_type": "code",
   "execution_count": null,
   "id": "c76690aa",
   "metadata": {},
   "outputs": [],
   "source": [
    "for ind in control_indices:\n",
    "    plt.plot(sh[ind], color='red')\n",
    "for ind in AD_indices:\n",
    "    plt.plot(sh[ind], color='blue')\n",
    "plt.title(\"Silhouette\")"
   ]
  },
  {
   "cell_type": "code",
   "execution_count": null,
   "id": "1172ba09",
   "metadata": {},
   "outputs": [],
   "source": [
    "from sklearn.decomposition import PCA\n",
    "from sklearn.manifold import TSNE\n",
    "from sklearn.discriminant_analysis import LinearDiscriminantAnalysis as LDA"
   ]
  },
  {
   "cell_type": "code",
   "execution_count": null,
   "id": "a7872edd",
   "metadata": {},
   "outputs": [],
   "source": [
    "print(sh.shape)\n",
    "print(np.array(phenotypes_array).shape)\n",
    "colormap_phenotypes=[1 if item=='AD' else 0 for item in phenotypes_array ]\n",
    "print(np.array(colormap_phenotypes).shape)"
   ]
  },
  {
   "cell_type": "code",
   "execution_count": null,
   "id": "d58f0c43",
   "metadata": {},
   "outputs": [],
   "source": [
    "pca = PCA(n_components=2)\n",
    "pca_data = pca.fit_transform(sh)\n",
    "plot = plt.scatter(pca_data[:,0], pca_data[:,1], c=np.array(colormap_phenotypes))\n",
    "plt.legend(handles=plot.legend_elements()[0], labels=['CN', 'AD'])\n",
    "plt.title('PCA')\n",
    "#plt.show()"
   ]
  },
  {
   "cell_type": "code",
   "execution_count": null,
   "id": "4a806236",
   "metadata": {
    "scrolled": true
   },
   "outputs": [],
   "source": [
    "tsne = TSNE(n_components=2)\n",
    "tsne_data = tsne.fit_transform(sh)\n",
    "plot = plt.scatter(tsne_data[:,0], tsne_data[:,1], c=np.array(colormap_phenotypes))\n",
    "plt.legend(handles=plot.legend_elements()[0], labels=['CN', 'AD'])\n",
    "plt.title('TSNE')\n",
    "#plt.show()"
   ]
  },
  {
   "cell_type": "code",
   "execution_count": null,
   "id": "f9a0f662",
   "metadata": {},
   "outputs": [],
   "source": [
    "intervals_array=data_fMRI.get_persistence_intervals_array(dim=0)"
   ]
  },
  {
   "cell_type": "code",
   "execution_count": null,
   "id": "2b722ff6",
   "metadata": {},
   "outputs": [],
   "source": [
    "betti_curves_array = gudhi.representations.vector_methods.BettiCurve(resolution=None).fit_transform(intervals_array)\n",
    "    \n",
    "for ind in AD_indices:\n",
    "    plt.plot(\n",
    "        betti_curves_array[ind], 'bo-', markersize=0.5\n",
    "    )\n",
    "for ind in control_indices:\n",
    "    plt.plot(\n",
    "        betti_curves_array[ind], 'ro-', markersize=0.5\n",
    "    )"
   ]
  },
  {
   "cell_type": "code",
   "execution_count": null,
   "id": "8051a9c4",
   "metadata": {},
   "outputs": [],
   "source": [
    "intervals_array"
   ]
  },
  {
   "cell_type": "markdown",
   "id": "9bf1713b",
   "metadata": {},
   "source": [
    "# CNI"
   ]
  },
  {
   "cell_type": "code",
   "execution_count": null,
   "id": "ed06923f",
   "metadata": {},
   "outputs": [],
   "source": [
    "#! git clone https://github.com/mdschirmer/2019_CNI_TrainingRelease\n",
    "#! git clone https://github.com/mdschirmer/2019_CNI_ValidationRelease"
   ]
  },
  {
   "cell_type": "code",
   "execution_count": null,
   "id": "13d8ff3e",
   "metadata": {},
   "outputs": [],
   "source": [
    "paths_aal = []\n",
    "p = Path(\"CNI/2019_CNI_TrainingRelease/Training\")\n",
    "for x in p.rglob(\"timeseries_aal.csv\"):\n",
    "    paths_aal.append(str(x))\n",
    "\n",
    "timeseries_array = []\n",
    "for path in paths_aal:\n",
    "    df = pd.read_csv(path, header=None)\n",
    "    df['roi'] = aal_labels\n",
    "    df = df.set_index('roi')\n",
    "    timeseries_array.append(df)\n",
    "len(timeseries_array)"
   ]
  },
  {
   "cell_type": "code",
   "execution_count": null,
   "id": "3548b2b0",
   "metadata": {},
   "outputs": [],
   "source": [
    "timeseries_array[0]"
   ]
  },
  {
   "cell_type": "code",
   "execution_count": null,
   "id": "e1be69de",
   "metadata": {},
   "outputs": [],
   "source": [
    "phenotypic_training = pd.read_csv('CNI/2019_CNI_TrainingRelease/SupportingInfo/phenotypic_training.csv')\n",
    "phenotypes_array = phenotypic_training['DX']"
   ]
  },
  {
   "cell_type": "code",
   "execution_count": null,
   "id": "50434bbb",
   "metadata": {},
   "outputs": [],
   "source": [
    "paths_aal = []\n",
    "p = Path(\"CNI/2019_CNI_ValidationRelease/Validation\")\n",
    "for x in p.rglob(\"timeseries_aal.csv\"):\n",
    "    paths_aal.append(str(x))\n",
    "\n",
    "#timeseries_array = []\n",
    "for path in paths_aal:\n",
    "    df = pd.read_csv(path, header=None)\n",
    "    df['roi'] = aal_labels\n",
    "    df = df.set_index('roi')\n",
    "    timeseries_array.append(df)\n",
    "len(timeseries_array)"
   ]
  },
  {
   "cell_type": "code",
   "execution_count": null,
   "id": "d6931e7c",
   "metadata": {},
   "outputs": [],
   "source": [
    "phenotypic_training = pd.read_csv('CNI/2019_CNI_ValidationRelease/SupportingInfo/phenotypic_validation.csv')\n",
    "phenotypes_array = list(phenotypes_array.values) + list(phenotypic_training['DX'].values)"
   ]
  },
  {
   "cell_type": "code",
   "execution_count": null,
   "id": "60476450",
   "metadata": {},
   "outputs": [],
   "source": [
    "len(phenotypes_array)"
   ]
  },
  {
   "cell_type": "code",
   "execution_count": null,
   "id": "e84fd277",
   "metadata": {},
   "outputs": [],
   "source": [
    "data_fMRI_CNI = DataFMRI(timeseries_array, aal_labels, phenotypes_array)"
   ]
  },
  {
   "cell_type": "code",
   "execution_count": null,
   "id": "a44b81cf",
   "metadata": {},
   "outputs": [],
   "source": [
    "np.save(f'fMRI_results/CNI/matrices.npy', data_fMRI_CNI.matrices)"
   ]
  },
  {
   "cell_type": "markdown",
   "id": "eba7d70a",
   "metadata": {},
   "source": [
    "### Learning"
   ]
  },
  {
   "cell_type": "code",
   "execution_count": null,
   "id": "ba890ba6",
   "metadata": {},
   "outputs": [],
   "source": [
    "pipe = Pipeline([(\"Separator\", gd.representations.DiagramSelector(limit=np.inf, point_type=\"finite\")),\n",
    "                 (\"Scaler\",    gd.representations.DiagramScaler(scalers=[([0,1], MinMaxScaler())])),\n",
    "                 #(\"TDA\",       gd.representations.PersistenceImage()),\n",
    "                 (\"Estimator\", GradientBoostingClassifier())])\n",
    "\n",
    "\n",
    "param =    [{\"Scaler__use\":         [False, True],\n",
    "#              \"TDA\":                 [\n",
    "#                                      #gd.representations.PersistenceImage(),\n",
    "#                                      gd.representations.Landscape(),\n",
    "#                                      gd.representations.Silhouette(),\n",
    "#                                      gd.representations.TopologicalVector(),\n",
    "#                                      #gd.representations.vector_methods.BettiCurve()\n",
    "#                                      ], \n",
    "             \n",
    "             \"Estimator\":           [GradientBoostingClassifier(),\n",
    "                                     RandomForestClassifier(),\n",
    "                                     SVC()]},]\n",
    "\n",
    "from sklearn.metrics import f1_score, make_scorer\n",
    "f1 = make_scorer(f1_score , average='macro')"
   ]
  },
  {
   "cell_type": "code",
   "execution_count": null,
   "id": "dee8c9e4",
   "metadata": {},
   "outputs": [],
   "source": [
    "len(phenotypes_array)"
   ]
  },
  {
   "cell_type": "markdown",
   "id": "589153c3",
   "metadata": {},
   "source": [
    "##### dim 0"
   ]
  },
  {
   "cell_type": "code",
   "execution_count": null,
   "id": "9efa3351",
   "metadata": {},
   "outputs": [],
   "source": [
    "intervals_array=data_fMRI_CNI.get_persistence_intervals_array(dim=0)"
   ]
  },
  {
   "cell_type": "code",
   "execution_count": null,
   "id": "186d9cd1",
   "metadata": {},
   "outputs": [],
   "source": [
    "phenotypes_array = [1 if el=='ADHD' else 0 for el in phenotypes_array]"
   ]
  },
  {
   "cell_type": "code",
   "execution_count": null,
   "id": "c8115f26",
   "metadata": {},
   "outputs": [],
   "source": [
    "#for i in range(20):\n",
    "    \n",
    "test_size            = 0.3\n",
    "perm                 = np.random.permutation(len(phenotypes_array))\n",
    "limit                = int(test_size * len(phenotypes_array))\n",
    "test_sub, train_sub  = perm[:limit], perm[limit:]\n",
    "train_phenotypes     = np.array(phenotypes_array)[train_sub]\n",
    "test_phenotypes      = np.array(phenotypes_array)[test_sub]\n",
    "train_intervals      = [intervals_array[i] for i in train_sub]\n",
    "test_intervals       = [intervals_array[i] for i in test_sub]\n"
   ]
  },
  {
   "cell_type": "code",
   "execution_count": null,
   "id": "157119b8",
   "metadata": {},
   "outputs": [],
   "source": [
    "len(test_intervals_transformed), len(train_intervals_transformed)"
   ]
  },
  {
   "cell_type": "code",
   "execution_count": null,
   "id": "22183b77",
   "metadata": {},
   "outputs": [],
   "source": [
    "landscape = gd.representations.Landscape(num_landscapes=len(test_intervals))\n",
    "len((landscape.fit_transform(test_intervals)))"
   ]
  },
  {
   "cell_type": "code",
   "execution_count": null,
   "id": "e3ef6d60",
   "metadata": {},
   "outputs": [],
   "source": [
    "landscape = gd.representations.Landscape(resolution=200)\n",
    "train_intervals_transformed = [landscape.fit_transform([train_intervals[i]])[0] for i in range(len(train_intervals))]\n",
    "test_intervals_transformed = [landscape.transform([test_intervals[i]])[0] for i in range(len(test_intervals))]\n",
    "# test_intervals_transformed =  landscape.transform(test_intervals)\n",
    "#plt.plot(landscape.fit_transform(train_intervals)[0])"
   ]
  },
  {
   "cell_type": "code",
   "execution_count": null,
   "id": "7461bd0a",
   "metadata": {},
   "outputs": [],
   "source": [
    "param_grid = {\n",
    "    'learning_rate': [0.01],\n",
    "    'n_estimators': [300],\n",
    "    'max_depth': [2, 3, 4, 5],\n",
    "    'subsample': [1.0],\n",
    "    'min_samples_leaf' : [1, 2, 3, 4],\n",
    "    \n",
    "}\n",
    "model = GradientBoostingClassifier()\n",
    "grid_search = GridSearchCV(model, param_grid, cv=3, scoring='accuracy')"
   ]
  },
  {
   "cell_type": "code",
   "execution_count": null,
   "id": "bd5c695c",
   "metadata": {},
   "outputs": [],
   "source": [
    "grid_search.fit(train_intervals_transformed, train_phenotypes)\n",
    "best_params = grid_search.best_params_\n",
    "best_model = grid_search.best_estimator_\n",
    "best_model_score = best_model.score(test_intervals_transformed, test_phenotypes)"
   ]
  },
  {
   "cell_type": "code",
   "execution_count": null,
   "id": "74c03111",
   "metadata": {},
   "outputs": [],
   "source": [
    "best_params, best_model, best_model_score"
   ]
  },
  {
   "cell_type": "code",
   "execution_count": null,
   "id": "c69da7fb",
   "metadata": {},
   "outputs": [],
   "source": [
    "best_model.score(train_intervals_transformed, train_phenotypes)"
   ]
  },
  {
   "cell_type": "code",
   "execution_count": null,
   "id": "e2cc2e17",
   "metadata": {},
   "outputs": [],
   "source": []
  },
  {
   "cell_type": "code",
   "execution_count": null,
   "id": "8b42b418",
   "metadata": {},
   "outputs": [],
   "source": [
    "res = []\n",
    "for i in range(10):\n",
    "    model = RandomForestClassifier(scoring = f1)\n",
    "    model = model.fit(train_intervals_transformed, train_phenotypes)\n",
    "    #print(model.best_params_)\n",
    "    train_score = model.score(train_intervals_transformed, train_phenotypes)\n",
    "    test_score = model.score(test_intervals_transformed,  test_phenotypes)\n",
    "    print(\"Train f1 = \" + str(train_score))\n",
    "    print(\"Test f1  = \" + str(test_score))\n",
    "    res.append((train_score, test_score))"
   ]
  },
  {
   "cell_type": "markdown",
   "id": "4ef452ba",
   "metadata": {},
   "source": [
    "##### dim 1"
   ]
  },
  {
   "cell_type": "code",
   "execution_count": null,
   "id": "88af659a",
   "metadata": {},
   "outputs": [],
   "source": [
    "intervals_array=data_fMRI_CNI.get_persistence_intervals_array(dim=1)"
   ]
  },
  {
   "cell_type": "code",
   "execution_count": null,
   "id": "88d07b79",
   "metadata": {},
   "outputs": [],
   "source": [
    "for i in range(20):\n",
    "    test_size            = 0.3\n",
    "    perm                 = np.random.permutation(len(phenotypes_array))\n",
    "    limit                = int(test_size * len(phenotypes_array))\n",
    "    test_sub, train_sub  = perm[:limit], perm[limit:]\n",
    "    train_phenotypes     = np.array(phenotypes_array)[train_sub]\n",
    "    test_phenotypes      = np.array(phenotypes_array)[test_sub]\n",
    "    train_intervals      = [intervals_array[i] for i in train_sub]\n",
    "    test_intervals       = [intervals_array[i] for i in test_sub]\n",
    "    \n",
    "    model = GridSearchCV(pipe, param, cv=3, scoring=f1)\n",
    "    \n",
    "    model = model.fit(train_intervals, train_phenotypes)\n",
    "    \n",
    "    print(model.best_params_)\n",
    "    print(\"Train f1 = \" + str(model.score(train_intervals, train_phenotypes)))\n",
    "    print(\"Test f1  = \" + str(model.score(test_intervals,  test_phenotypes)))"
   ]
  },
  {
   "cell_type": "code",
   "execution_count": null,
   "id": "578df10f",
   "metadata": {},
   "outputs": [],
   "source": [
    "test_size            = 0.3\n",
    "perm                 = np.random.permutation(len(phenotypes_array))\n",
    "limit                = int(test_size * len(phenotypes_array))\n",
    "test_sub, train_sub  = perm[:limit], perm[limit:]\n",
    "train_phenotypes     = np.array(phenotypes_array)[train_sub]\n",
    "test_phenotypes      = np.array(phenotypes_array)[test_sub]\n",
    "train_intervals      = [intervals_array[i] for i in train_sub]\n",
    "test_intervals       = [intervals_array[i] for i in test_sub]"
   ]
  },
  {
   "cell_type": "code",
   "execution_count": null,
   "id": "c451c75c",
   "metadata": {},
   "outputs": [],
   "source": [
    "model = GridSearchCV(pipe, param, cv=3, scoring=f1)\n",
    "#model = GridSearchCV(pipe, param, cv=3)"
   ]
  },
  {
   "cell_type": "code",
   "execution_count": null,
   "id": "0e90cccb",
   "metadata": {},
   "outputs": [],
   "source": [
    "model = model.fit(train_intervals, train_phenotypes)"
   ]
  },
  {
   "cell_type": "code",
   "execution_count": null,
   "id": "e67c37fe",
   "metadata": {},
   "outputs": [],
   "source": [
    "print(model.best_params_)"
   ]
  },
  {
   "cell_type": "code",
   "execution_count": null,
   "id": "dbd8b286",
   "metadata": {},
   "outputs": [],
   "source": [
    "print(\"Train f1 = \" + str(model.score(train_intervals, train_phenotypes)))\n",
    "print(\"Test f1  = \" + str(model.score(test_intervals,  test_phenotypes)))"
   ]
  },
  {
   "cell_type": "code",
   "execution_count": null,
   "id": "3fccf16a",
   "metadata": {},
   "outputs": [],
   "source": [
    "data_fMRI_CNI.phenotypes_array"
   ]
  },
  {
   "cell_type": "markdown",
   "id": "cd5247f3",
   "metadata": {},
   "source": [
    "### diagrams"
   ]
  },
  {
   "cell_type": "code",
   "execution_count": null,
   "id": "a16ed108",
   "metadata": {},
   "outputs": [],
   "source": [
    "ADHD_indices = np.where(np.array(data_fMRI_CNI.phenotypes_array)=='ADHD')[0]\n",
    "control_indices = np.where(np.array(data_fMRI_CNI.phenotypes_array)=='Control')[0]"
   ]
  },
  {
   "cell_type": "code",
   "execution_count": null,
   "id": "58621553",
   "metadata": {
    "scrolled": true
   },
   "outputs": [],
   "source": [
    "hist_ADHD = plt.hist(np.array(data_fMRI_CNI.matrices)[ADHD_indices].flatten(),bins=50)\n",
    "hist_control = plt.hist(np.array(data_fMRI_CNI.matrices)[control_indices].flatten(),bins=50)"
   ]
  },
  {
   "cell_type": "code",
   "execution_count": null,
   "id": "fbd07e17",
   "metadata": {},
   "outputs": [],
   "source": [
    "dataset = 'CNI'\n",
    "np.save(f'fMRI_results/{dataset}/hist_control_0.npy', hist_control[0])\n",
    "np.save(f'fMRI_results/{dataset}/hist_AD_0.npy', hist_ADHD[0])\n",
    "np.save(f'fMRI_results/{dataset}/hist_control_1.npy', hist_control[1])\n",
    "np.save(f'fMRI_results/{dataset}/hist_AD_1.npy', hist_ADHD[1])"
   ]
  },
  {
   "cell_type": "code",
   "execution_count": null,
   "id": "3c6c79a5",
   "metadata": {},
   "outputs": [],
   "source": [
    "print(len(ADHD_indices), len(control_indices))"
   ]
  },
  {
   "cell_type": "code",
   "execution_count": null,
   "id": "3ae08476",
   "metadata": {},
   "outputs": [],
   "source": [
    "data_fMRI_CNI.plot_persistence_barcode(ADHD_indices)"
   ]
  },
  {
   "cell_type": "code",
   "execution_count": null,
   "id": "e59e25d8",
   "metadata": {},
   "outputs": [],
   "source": [
    "data_fMRI_CNI.plot_persistence_barcode(control_indices)"
   ]
  },
  {
   "cell_type": "code",
   "execution_count": null,
   "id": "9b7a72b7",
   "metadata": {},
   "outputs": [],
   "source": [
    "import matplotlib.patches as mpatches"
   ]
  },
  {
   "cell_type": "code",
   "execution_count": null,
   "id": "486b165a",
   "metadata": {},
   "outputs": [],
   "source": [
    "diagrams_ADHD = data_fMRI_CNI.diagrams[ADHD_indices[0]]\n",
    "for i in ADHD_indices[1:]:\n",
    "    diagrams_ADHD = diagrams_ADHD + data_fMRI_CNI.diagrams[i]\n",
    "    \n",
    "diagrams_control = data_fMRI_CNI.diagrams[control_indices[0]]\n",
    "for i in control_indices[1:]:\n",
    "    diagrams_control = diagrams_control + data_fMRI_CNI.diagrams[i]"
   ]
  },
  {
   "cell_type": "code",
   "execution_count": null,
   "id": "3f528dbd",
   "metadata": {},
   "outputs": [],
   "source": [
    "fig, ax = plt.subplots(1, 2, figsize=(10,4))\n",
    "\n",
    "\n",
    "gudhi.plot_persistence_diagram(diagrams_ADHD, legend=True,\n",
    "                               max_intervals=0,\n",
    "                               #colormap='red',\n",
    "                               axes=ax[0], fontsize=10)\n",
    "ax[0].set_title('ADHD')\n",
    "\n",
    "\n",
    "gudhi.plot_persistence_diagram(diagrams_control, legend=True, max_intervals=0, \n",
    "                               #colormap='blue',\n",
    "                                     axes=ax[1], fontsize=10)\n",
    "ax[1].set_title('Control')\n"
   ]
  },
  {
   "cell_type": "code",
   "execution_count": null,
   "id": "ce1bf88e",
   "metadata": {},
   "outputs": [],
   "source": [
    "diagrams_ADHD_0 = [item[1] for item in diagrams_ADHD if item[0]==0]\n",
    "diagrams_ADHD_1 = [item[1] for item in diagrams_ADHD if item[0]==1]\n",
    "\n",
    "diagrams_control_0 = [item[1] for item in diagrams_control if item[0]==0]\n",
    "diagrams_control_1 = [item[1] for item in diagrams_control if item[0]==1]"
   ]
  },
  {
   "cell_type": "code",
   "execution_count": null,
   "id": "6a664819",
   "metadata": {},
   "outputs": [],
   "source": [
    "np.save(f'fMRI_results/{dataset}/control_diagram_0.npy', diagrams_control_0)\n",
    "np.save(f'fMRI_results/{dataset}/control_diagram_1.npy', diagrams_control_1)\n",
    "np.save(f'fMRI_results/{dataset}/AD_diagram_0.npy', diagrams_ADHD_0)\n",
    "np.save(f'fMRI_results/{dataset}/AD_diagram_1.npy', diagrams_ADHD_1)"
   ]
  },
  {
   "cell_type": "code",
   "execution_count": null,
   "id": "0b39a2cf",
   "metadata": {},
   "outputs": [],
   "source": [
    "data_fMRI_CNI.plot_persistence_diagram(control_indices)"
   ]
  },
  {
   "cell_type": "code",
   "execution_count": null,
   "id": "b0e09d3d",
   "metadata": {},
   "outputs": [],
   "source": [
    "diagrams_ADHD_0 = sorted(diagrams_ADHD_0, key=lambda x: x[0]-x[1])"
   ]
  },
  {
   "cell_type": "code",
   "execution_count": null,
   "id": "e470eacf",
   "metadata": {},
   "outputs": [],
   "source": [
    "axis = gudhi.plot_persistence_barcode(data_fMRI_CNI.diagrams[control_indices[0]], max_intervals=0, legend=True, alpha=0.5,\n",
    "                               colormap=['red', 'red'])\n",
    "for i in range(1, len(control_indices)):\n",
    "    gudhi.plot_persistence_barcode(data_fMRI_CNI.diagrams[control_indices[i]], max_intervals=0, legend=True, alpha=0.5,\n",
    "                                   axes=axis, colormap=['red', 'red'])\n",
    "    \n",
    "gudhi.plot_persistence_barcode(data_fMRI_CNI.diagrams[ADHD_indices[0]], max_intervals=0, legend=True, alpha=0.5, axes=axis,\n",
    "                                     colormap=['blue', 'blue'])\n",
    "for i in range(1, len(ADHD_indices)):\n",
    "    gudhi.plot_persistence_barcode(data_fMRI_CNI.diagrams[ADHD_indices[i]], max_intervals=0, legend=True, alpha=0.5, axes=axis,\n",
    "                                  colormap=['blue', 'blue'])\n",
    "      \n",
    "        \n",
    "        \n",
    "axis.set_title('ADHD patients and controls')\n",
    "patch1 = mpatches.Patch(color='red', label='Control')\n",
    "patch2 = mpatches.Patch(color='blue', label='AD')\n",
    "axis.legend(handles=[patch1, patch2])"
   ]
  },
  {
   "cell_type": "code",
   "execution_count": null,
   "id": "6a66a29b",
   "metadata": {},
   "outputs": [],
   "source": []
  },
  {
   "cell_type": "markdown",
   "id": "45944865",
   "metadata": {},
   "source": [
    "### Clusters CNI"
   ]
  },
  {
   "cell_type": "code",
   "execution_count": null,
   "id": "01bdf15d",
   "metadata": {},
   "outputs": [],
   "source": [
    "intervals_array=data_fMRI_CNI.get_persistence_intervals_array(dim=0)"
   ]
  },
  {
   "cell_type": "code",
   "execution_count": null,
   "id": "7e685023",
   "metadata": {},
   "outputs": [],
   "source": [
    "SH = gd.representations.Silhouette(resolution=1000, weight=lambda x: np.power(x[1]-x[0],1))\n",
    "sh = SH.fit_transform(intervals_array)"
   ]
  },
  {
   "cell_type": "code",
   "execution_count": null,
   "id": "f543e450",
   "metadata": {},
   "outputs": [],
   "source": [
    "from sklearn.decomposition import PCA\n",
    "from sklearn.manifold import TSNE\n",
    "from sklearn.discriminant_analysis import LinearDiscriminantAnalysis as LDA"
   ]
  },
  {
   "cell_type": "code",
   "execution_count": null,
   "id": "958ac83d",
   "metadata": {},
   "outputs": [],
   "source": [
    "print(sh.shape)\n",
    "print(np.array(phenotypes_array).shape)\n",
    "colormap_phenotypes=[1 if item=='ADHD' else 0 for item in phenotypes_array ]\n",
    "print(np.array(colormap_phenotypes).shape)"
   ]
  },
  {
   "cell_type": "code",
   "execution_count": null,
   "id": "9f7c8a6e",
   "metadata": {},
   "outputs": [],
   "source": [
    "pca = PCA(n_components=2)\n",
    "pca_data = pca.fit_transform(sh)\n",
    "plot = plt.scatter(pca_data[:,0], pca_data[:,1], c=np.array(colormap_phenotypes))\n",
    "plt.legend(handles=plot.legend_elements()[0], labels=['CN', 'ADHD'])\n",
    "plt.title('PCA')\n",
    "#plt.show()"
   ]
  },
  {
   "cell_type": "code",
   "execution_count": null,
   "id": "df252c2a",
   "metadata": {},
   "outputs": [],
   "source": [
    "tsne = TSNE(n_components=2)\n",
    "tsne_data = tsne.fit_transform(sh)\n",
    "plot = plt.scatter(tsne_data[:,0], tsne_data[:,1], c=np.array(colormap_phenotypes))\n",
    "plt.legend(handles=plot.legend_elements()[0], labels=['CN', 'ADHD'])\n",
    "plt.title('TSNE')\n",
    "#plt.show()"
   ]
  },
  {
   "cell_type": "markdown",
   "id": "5234ad5a",
   "metadata": {},
   "source": [
    "# OASIS"
   ]
  },
  {
   "cell_type": "code",
   "execution_count": null,
   "id": "891e2aef",
   "metadata": {},
   "outputs": [],
   "source": [
    "paths_aal = []\n",
    "count = 0\n",
    "p = Path(\"ts_extracted/controls/AAL\")\n",
    "for x in p.rglob(\"*\"):\n",
    "    if count > 199:\n",
    "        break\n",
    "    paths_aal.append(str(x))\n",
    "    count = count + 1\n",
    "\n",
    "timeseries_array_control = []\n",
    "for path in paths_aal:\n",
    "    df = pd.read_csv(path, header=0)\n",
    "    \n",
    "    df = df.drop(df.columns[0], axis=1)\n",
    "    timeseries_array_control.append(df.T)\n",
    "len(timeseries_array_control)"
   ]
  },
  {
   "cell_type": "code",
   "execution_count": null,
   "id": "9cd97401",
   "metadata": {},
   "outputs": [],
   "source": [
    "phenotypes_array = np.repeat('Control', len(timeseries_array_control))"
   ]
  },
  {
   "cell_type": "code",
   "execution_count": null,
   "id": "76f0ed13",
   "metadata": {},
   "outputs": [],
   "source": [
    "paths_aal = []\n",
    "p = Path(\"ts_extracted/patients/AAL\")\n",
    "count = 0\n",
    "for x in p.rglob(\"*\"):\n",
    "    if count > 199:\n",
    "        break\n",
    "    paths_aal.append(str(x))\n",
    "    count = count + 1\n",
    "\n",
    "timeseries_array_patient = []\n",
    "for path in paths_aal:\n",
    "    df = pd.read_csv(path, header=0)\n",
    "    df = df.drop(df.columns[0], axis=1)\n",
    "    timeseries_array_patient.append(df.T)\n",
    "len(timeseries_array_patient)"
   ]
  },
  {
   "cell_type": "code",
   "execution_count": null,
   "id": "0be74af2",
   "metadata": {},
   "outputs": [],
   "source": [
    "phenotypes_array = np.concatenate((phenotypes_array, np.repeat('Patient', len(timeseries_array_patient))))"
   ]
  },
  {
   "cell_type": "code",
   "execution_count": null,
   "id": "ffaac04f",
   "metadata": {},
   "outputs": [],
   "source": [
    "timeseries_array = timeseries_array_control + timeseries_array_patient\n",
    "print(len(timeseries_array))\n",
    "print(len(phenotypes_array))"
   ]
  },
  {
   "cell_type": "code",
   "execution_count": null,
   "id": "dadd7822",
   "metadata": {},
   "outputs": [],
   "source": [
    "timeseries_array[0]"
   ]
  },
  {
   "cell_type": "code",
   "execution_count": null,
   "id": "445c9156",
   "metadata": {},
   "outputs": [],
   "source": [
    "data_fMRI_OASIS = DataFMRI(timeseries_array, aal_labels, phenotypes_array)"
   ]
  },
  {
   "cell_type": "code",
   "execution_count": null,
   "id": "799e227d",
   "metadata": {},
   "outputs": [],
   "source": [
    "np.save(f'fMRI_results/OASIS/matrices.npy', data_fMRI_OASIS.matrices)"
   ]
  },
  {
   "cell_type": "markdown",
   "id": "1b67427c",
   "metadata": {},
   "source": [
    "### Learning"
   ]
  },
  {
   "cell_type": "markdown",
   "id": "c3754645",
   "metadata": {},
   "source": [
    "##### dim 0"
   ]
  },
  {
   "cell_type": "code",
   "execution_count": null,
   "id": "3dd2e016",
   "metadata": {},
   "outputs": [],
   "source": [
    "intervals_array=data_fMRI_OASIS.get_persistence_intervals_array(dim=0)"
   ]
  },
  {
   "cell_type": "code",
   "execution_count": null,
   "id": "f90bfaa2",
   "metadata": {},
   "outputs": [],
   "source": [
    "test_size            = 0.3\n",
    "perm                 = np.random.permutation(len(phenotypes_array))\n",
    "limit                = int(test_size * len(phenotypes_array))\n",
    "test_sub, train_sub  = perm[:limit], perm[limit:]\n",
    "train_phenotypes     = np.array(phenotypes_array)[train_sub]\n",
    "test_phenotypes      = np.array(phenotypes_array)[test_sub]\n",
    "train_intervals      = [intervals_array[i] for i in train_sub]\n",
    "test_intervals       = [intervals_array[i] for i in test_sub]"
   ]
  },
  {
   "cell_type": "code",
   "execution_count": null,
   "id": "bce74d1e",
   "metadata": {},
   "outputs": [],
   "source": [
    "# Definition of pipeline\n",
    "pipe = Pipeline([(\"Separator\", gd.representations.DiagramSelector(limit=np.inf, point_type=\"finite\")),\n",
    "                 (\"Scaler\",    gd.representations.DiagramScaler(scalers=[([0,1], MinMaxScaler())])),\n",
    "                 (\"TDA\",       gd.representations.PersistenceImage()),\n",
    "                 (\"Estimator\", GradientBoostingClassifier())])\n",
    "\n",
    "\n",
    "param =    [{\"Scaler__use\":         [False, True],\n",
    "             \"TDA\":                 [\n",
    "                                     #gd.representations.PersistenceImage(),\n",
    "                                     gd.representations.Landscape(),\n",
    "                                     gd.representations.Silhouette(),\n",
    "                                     gd.representations.TopologicalVector()\n",
    "                                     ], \n",
    "             \n",
    "             \"Estimator\":           [GradientBoostingClassifier(),\n",
    "                                     RandomForestClassifier(),\n",
    "                                     SVC()]},]\n",
    "            "
   ]
  },
  {
   "cell_type": "code",
   "execution_count": null,
   "id": "c631b852",
   "metadata": {},
   "outputs": [],
   "source": [
    "from sklearn.metrics import f1_score, make_scorer\n",
    "f1 = make_scorer(f1_score , average='macro')"
   ]
  },
  {
   "cell_type": "code",
   "execution_count": null,
   "id": "c6bb85f1",
   "metadata": {},
   "outputs": [],
   "source": [
    "model = GridSearchCV(pipe, param, cv=3, scoring=f1)\n",
    "#model = GridSearchCV(pipe, param, cv=3)"
   ]
  },
  {
   "cell_type": "code",
   "execution_count": null,
   "id": "e1a0ee39",
   "metadata": {},
   "outputs": [],
   "source": [
    "model = model.fit(train_intervals, train_phenotypes)"
   ]
  },
  {
   "cell_type": "code",
   "execution_count": null,
   "id": "b93244f2",
   "metadata": {},
   "outputs": [],
   "source": [
    "print(model.best_params_)"
   ]
  },
  {
   "cell_type": "code",
   "execution_count": null,
   "id": "c328522f",
   "metadata": {},
   "outputs": [],
   "source": [
    "print(\"Train f1 = \" + str(model.score(train_intervals, train_phenotypes)))\n",
    "print(\"Test f1  = \" + str(model.score(test_intervals,  test_phenotypes)))"
   ]
  },
  {
   "cell_type": "markdown",
   "id": "e091050d",
   "metadata": {},
   "source": [
    "##### dim 1"
   ]
  },
  {
   "cell_type": "code",
   "execution_count": null,
   "id": "1dde6456",
   "metadata": {},
   "outputs": [],
   "source": [
    "intervals_array=data_fMRI_OASIS.get_persistence_intervals_array(dim=1)"
   ]
  },
  {
   "cell_type": "code",
   "execution_count": null,
   "id": "577092aa",
   "metadata": {},
   "outputs": [],
   "source": [
    "test_size            = 0.3\n",
    "perm                 = np.random.permutation(len(phenotypes_array))\n",
    "limit                = int(test_size * len(phenotypes_array))\n",
    "test_sub, train_sub  = perm[:limit], perm[limit:]\n",
    "train_phenotypes     = np.array(phenotypes_array)[train_sub]\n",
    "test_phenotypes      = np.array(phenotypes_array)[test_sub]\n",
    "train_intervals      = [intervals_array[i] for i in train_sub]\n",
    "test_intervals       = [intervals_array[i] for i in test_sub]"
   ]
  },
  {
   "cell_type": "code",
   "execution_count": null,
   "id": "897fd3e0",
   "metadata": {},
   "outputs": [],
   "source": [
    "model = GridSearchCV(pipe, param, cv=3, scoring=f1)\n",
    "#model = GridSearchCV(pipe, param, cv=3)"
   ]
  },
  {
   "cell_type": "code",
   "execution_count": null,
   "id": "27245d58",
   "metadata": {},
   "outputs": [],
   "source": [
    "model = model.fit(train_intervals, train_phenotypes)"
   ]
  },
  {
   "cell_type": "code",
   "execution_count": null,
   "id": "30c660ac",
   "metadata": {},
   "outputs": [],
   "source": [
    "print(model.best_params_)"
   ]
  },
  {
   "cell_type": "code",
   "execution_count": null,
   "id": "3195b274",
   "metadata": {},
   "outputs": [],
   "source": [
    "print(\"Train f1 = \" + str(model.score(train_intervals, train_phenotypes)))\n",
    "print(\"Test f1  = \" + str(model.score(test_intervals,  test_phenotypes)))"
   ]
  },
  {
   "cell_type": "code",
   "execution_count": null,
   "id": "06470e7d",
   "metadata": {},
   "outputs": [],
   "source": [
    "data_fMRI_OASIS.phenotypes_array"
   ]
  },
  {
   "cell_type": "markdown",
   "id": "173f5024",
   "metadata": {},
   "source": [
    "### diagrams"
   ]
  },
  {
   "cell_type": "code",
   "execution_count": null,
   "id": "c5fedf43",
   "metadata": {},
   "outputs": [],
   "source": [
    "ADHD_indices = np.where(np.array(phenotypes_array)=='Patient')[0]\n",
    "control_indices = np.where(np.array(phenotypes_array)=='Control')[0]"
   ]
  },
  {
   "cell_type": "code",
   "execution_count": null,
   "id": "30882dd1",
   "metadata": {
    "scrolled": true
   },
   "outputs": [],
   "source": [
    "hist_ADHD = plt.hist(np.array(data_fMRI_OASIS.matrices)[ADHD_indices].flatten(),bins=50)\n",
    "hist_control = plt.hist(np.array(data_fMRI_OASIS.matrices)[control_indices].flatten(),bins=50)"
   ]
  },
  {
   "cell_type": "code",
   "execution_count": null,
   "id": "66bfab58",
   "metadata": {},
   "outputs": [],
   "source": [
    "dataset = 'OASIS'\n",
    "np.save(f'fMRI_results/{dataset}/hist_control_0.npy', hist_control[0])\n",
    "np.save(f'fMRI_results/{dataset}/hist_AD_0.npy', hist_ADHD[0])\n",
    "np.save(f'fMRI_results/{dataset}/hist_control_1.npy', hist_control[1])\n",
    "np.save(f'fMRI_results/{dataset}/hist_AD_1.npy', hist_ADHD[1])"
   ]
  },
  {
   "cell_type": "code",
   "execution_count": null,
   "id": "9f05915e",
   "metadata": {},
   "outputs": [],
   "source": [
    "data_fMRI_OASIS.plot_persistence_diagram(ADHD_indices)"
   ]
  },
  {
   "cell_type": "code",
   "execution_count": null,
   "id": "96a7cead",
   "metadata": {},
   "outputs": [],
   "source": [
    "data_fMRI_OASIS.plot_persistence_diagram(control_indices)"
   ]
  },
  {
   "cell_type": "code",
   "execution_count": null,
   "id": "130c24b4",
   "metadata": {},
   "outputs": [],
   "source": [
    "data_fMRI_OASIS.plot_persistence_barcode(ADHD_indices)"
   ]
  },
  {
   "cell_type": "code",
   "execution_count": null,
   "id": "16b51ee3",
   "metadata": {},
   "outputs": [],
   "source": [
    "data_fMRI_OASIS.plot_persistence_barcode(control_indices)"
   ]
  },
  {
   "cell_type": "code",
   "execution_count": null,
   "id": "fde36860",
   "metadata": {},
   "outputs": [],
   "source": [
    "import matplotlib.patches as mpatches"
   ]
  },
  {
   "cell_type": "code",
   "execution_count": null,
   "id": "2089a0c1",
   "metadata": {},
   "outputs": [],
   "source": [
    "diagrams_ADHD = data_fMRI_OASIS.diagrams[ADHD_indices[0]]\n",
    "for i in ADHD_indices[1:]:\n",
    "    diagrams_ADHD = diagrams_ADHD + data_fMRI_OASIS.diagrams[i]\n",
    "    \n",
    "diagrams_control = data_fMRI_OASIS.diagrams[control_indices[0]]\n",
    "for i in control_indices[1:]:\n",
    "    diagrams_control = diagrams_control + data_fMRI_OASIS.diagrams[i]"
   ]
  },
  {
   "cell_type": "code",
   "execution_count": null,
   "id": "5c435239",
   "metadata": {},
   "outputs": [],
   "source": [
    "fig, ax = plt.subplots(1, 2, figsize=(10,4))\n",
    "\n",
    "\n",
    "gudhi.plot_persistence_diagram(diagrams_ADHD, legend=True,\n",
    "                               max_intervals=0,\n",
    "                               #colormap='red',\n",
    "                               axes=ax[0], fontsize=10)\n",
    "ax[0].set_title('AD')\n",
    "\n",
    "\n",
    "gudhi.plot_persistence_diagram(diagrams_control, legend=True, max_intervals=0, \n",
    "                               #colormap='blue',\n",
    "                                     axes=ax[1], fontsize=10)\n",
    "ax[1].set_title('Control')\n"
   ]
  },
  {
   "cell_type": "code",
   "execution_count": null,
   "id": "933290c2",
   "metadata": {},
   "outputs": [],
   "source": [
    "diagrams_ADHD_0 = [item[1] for item in diagrams_ADHD if item[0]==0]\n",
    "diagrams_ADHD_1 = [item[1] for item in diagrams_ADHD if item[0]==1]\n",
    "\n",
    "diagrams_control_0 = [item[1] for item in diagrams_control if item[0]==0]\n",
    "diagrams_control_1 = [item[1] for item in diagrams_control if item[0]==1]"
   ]
  },
  {
   "cell_type": "code",
   "execution_count": null,
   "id": "38a0b754",
   "metadata": {},
   "outputs": [],
   "source": [
    "np.save(f'fMRI_results/{dataset}/control_diagram_0.npy', diagrams_control_0)\n",
    "np.save(f'fMRI_results/{dataset}/control_diagram_1.npy', diagrams_control_1)\n",
    "np.save(f'fMRI_results/{dataset}/AD_diagram_0.npy', diagrams_ADHD_0)\n",
    "np.save(f'fMRI_results/{dataset}/AD_diagram_1.npy', diagrams_ADHD_1)"
   ]
  },
  {
   "cell_type": "code",
   "execution_count": null,
   "id": "47c37c3b",
   "metadata": {},
   "outputs": [],
   "source": [
    "axis = gudhi.plot_persistence_barcode(data_fMRI_OASIS.diagrams[control_indices[0]], max_intervals=0, legend=True, alpha=0.5,\n",
    "                               colormap=['red', 'red'])\n",
    "for i in range(1, len(control_indices)):\n",
    "    gudhi.plot_persistence_barcode(data_fMRI_OASIS.diagrams[control_indices[i]], max_intervals=0, legend=True, alpha=0.5,\n",
    "                                   axes=axis, colormap=['red', 'red'])\n",
    "    \n",
    "gudhi.plot_persistence_barcode(data_fMRI_OASIS.diagrams[ADHD_indices[0]], max_intervals=0, legend=True, alpha=0.5, axes=axis,\n",
    "                                     colormap=['blue', 'blue'])\n",
    "for i in range(1, len(ADHD_indices)):\n",
    "    gudhi.plot_persistence_barcode(data_fMRI_OASIS.diagrams[ADHD_indices[i]], max_intervals=0, legend=True, alpha=0.5, axes=axis,\n",
    "                                  colormap=['blue', 'blue'])\n",
    "      \n",
    "        \n",
    "        \n",
    "axis.set_title('AD patients and controls')\n",
    "patch1 = mpatches.Patch(color='red', label='Control')\n",
    "patch2 = mpatches.Patch(color='blue', label='AD')\n",
    "axis.legend(handles=[patch1, patch2])"
   ]
  },
  {
   "cell_type": "markdown",
   "id": "aa273fa2",
   "metadata": {},
   "source": [
    "### Clusters OASIS"
   ]
  },
  {
   "cell_type": "code",
   "execution_count": null,
   "id": "f249f587",
   "metadata": {},
   "outputs": [],
   "source": [
    "intervals_array=data_fMRI_OASIS.get_persistence_intervals_array(dim=0)"
   ]
  },
  {
   "cell_type": "code",
   "execution_count": null,
   "id": "be07ad89",
   "metadata": {},
   "outputs": [],
   "source": [
    "SH = gd.representations.Silhouette(resolution=1000, weight=lambda x: np.power(x[1]-x[0],1))\n",
    "sh = SH.fit_transform(intervals_array)"
   ]
  },
  {
   "cell_type": "code",
   "execution_count": null,
   "id": "4dfa4f2c",
   "metadata": {},
   "outputs": [],
   "source": [
    "from sklearn.decomposition import PCA\n",
    "from sklearn.manifold import TSNE\n",
    "from sklearn.discriminant_analysis import LinearDiscriminantAnalysis as LDA"
   ]
  },
  {
   "cell_type": "code",
   "execution_count": null,
   "id": "93ec27fc",
   "metadata": {},
   "outputs": [],
   "source": [
    "print(sh.shape)\n",
    "print(np.array(phenotypes_array).shape)\n",
    "colormap_phenotypes=[1 if item=='Patient' else 0 for item in phenotypes_array ]\n",
    "print(np.array(colormap_phenotypes).shape)"
   ]
  },
  {
   "cell_type": "code",
   "execution_count": null,
   "id": "8b2cae30",
   "metadata": {},
   "outputs": [],
   "source": [
    "pca = PCA(n_components=2)\n",
    "pca_data = pca.fit_transform(sh)\n",
    "plot = plt.scatter(pca_data[:,0], pca_data[:,1], c=np.array(colormap_phenotypes))\n",
    "plt.legend(handles=plot.legend_elements()[0], labels=['CN', 'ADHD'])\n",
    "plt.title('PCA')\n",
    "#plt.show()"
   ]
  },
  {
   "cell_type": "code",
   "execution_count": null,
   "id": "be186e00",
   "metadata": {},
   "outputs": [],
   "source": [
    "tsne = TSNE(n_components=2)\n",
    "tsne_data = tsne.fit_transform(sh)\n",
    "plot = plt.scatter(tsne_data[:,0], tsne_data[:,1], c=np.array(colormap_phenotypes))\n",
    "plt.legend(handles=plot.legend_elements()[0], labels=['CN', 'ADHD'])\n",
    "plt.title('TSNE')\n",
    "#plt.show()"
   ]
  },
  {
   "cell_type": "code",
   "execution_count": null,
   "id": "0704a8a1",
   "metadata": {},
   "outputs": [],
   "source": []
  }
 ],
 "metadata": {
  "kernelspec": {
   "display_name": "Python 3 (ipykernel)",
   "language": "python",
   "name": "python3"
  },
  "language_info": {
   "codemirror_mode": {
    "name": "ipython",
    "version": 3
   },
   "file_extension": ".py",
   "mimetype": "text/x-python",
   "name": "python",
   "nbconvert_exporter": "python",
   "pygments_lexer": "ipython3",
   "version": "3.9.13"
  }
 },
 "nbformat": 4,
 "nbformat_minor": 5
}
