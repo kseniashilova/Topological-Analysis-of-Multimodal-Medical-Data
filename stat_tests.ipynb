{
 "cells": [
  {
   "cell_type": "code",
   "execution_count": null,
   "id": "35cf428c",
   "metadata": {},
   "outputs": [],
   "source": [
    "import numpy as np\n",
    "import matplotlib.pyplot as plt\n",
    "import pandas as pd\n",
    "\n",
    "import gudhi as gd\n",
    "import gudhi.representations\n",
    "import gudhi.representations.vector_methods\n",
    "\n",
    "from scipy.stats import ks_2samp\n",
    "from scipy.stats import chi2_contingency"
   ]
  },
  {
   "cell_type": "code",
   "execution_count": null,
   "id": "d1a7316f",
   "metadata": {},
   "outputs": [],
   "source": [
    "def load_data(link):\n",
    "    return np.load(link).astype(np.float32)"
   ]
  },
  {
   "cell_type": "markdown",
   "id": "3d2589ca",
   "metadata": {},
   "source": [
    "# Genetic"
   ]
  },
  {
   "cell_type": "code",
   "execution_count": null,
   "id": "8625bbde",
   "metadata": {},
   "outputs": [],
   "source": [
    "datasets = ['GenesExtended', 'Genes'] # Genes, GenesExtended\n",
    "methods = ['', 'Basic AutoEncoder_', 'Topological AutoEncoder_',\n",
    "           #'PCA_', 'tSNE_', \n",
    "           'UMAP_']\n",
    "\n",
    "tests = ['KS']"
   ]
  },
  {
   "cell_type": "markdown",
   "id": "926670b9",
   "metadata": {},
   "source": [
    "### Persistence diagrams"
   ]
  },
  {
   "cell_type": "code",
   "execution_count": null,
   "id": "3f87c0ec",
   "metadata": {
    "scrolled": true
   },
   "outputs": [],
   "source": [
    "table = []\n",
    "for test in tests:\n",
    "    table_test = []\n",
    "    for dataset in datasets:\n",
    "        table_dataset_0 = []\n",
    "        table_dataset_1 = []\n",
    "        for method in methods:\n",
    "            # loading data\n",
    "            AD_dim0 = load_data(f'{dataset}/diagrams/{method}AD_diagram_0.npy')\n",
    "            control_dim0 = load_data(f'{dataset}/diagrams/{method}control_diagram_0.npy')\n",
    "            AD_dim1 = load_data(f'{dataset}/diagrams/{method}AD_diagram_1.npy')\n",
    "            control_dim1 = load_data(f'{dataset}/diagrams/{method}control_diagram_1.npy')\n",
    "\n",
    "            # get diagrams for plotting\n",
    "            AD_diagram = []\n",
    "            for el in AD_dim0:\n",
    "                AD_diagram.append((0, el))\n",
    "            for el in AD_dim1:\n",
    "                AD_diagram.append((1, el))\n",
    "\n",
    "            control_diagram = []\n",
    "            for el in control_dim0:\n",
    "                control_diagram.append((0, el))\n",
    "            for el in control_dim1:\n",
    "                control_diagram.append((1, el))\n",
    "\n",
    "            # 0 dim test\n",
    "            if test == 'KS':\n",
    "                # Kolmogorov-Smirnov test\n",
    "                statistic, p_value = ks_2samp(control_dim0[:, 1], AD_dim0[:, 1])\n",
    "            elif test == 'Chi2':\n",
    "                statistic, p_value, _, _ = chi2_contingency(control_dim0[:, 1], AD_dim0[:, 1])\n",
    "            print(f\"{dataset}, {method}, dim 0, Test Statistic:\", statistic)\n",
    "            print(f\"{dataset}, {method}, dim 0,  P-value:\", p_value)\n",
    "            table_dataset_0.append([method, p_value])\n",
    "\n",
    "            # 1 dim test\n",
    "            landscape = gd.representations.Landscape(resolution=200)\n",
    "            if test == 'KS':\n",
    "                # Kolmogorov-Smirnov test\n",
    "                statistic, p_value = ks_2samp(landscape.fit_transform([control_dim1])[0], landscape.fit_transform([AD_dim1])[0])\n",
    "            elif test == 'Chi2':\n",
    "                try:\n",
    "                    statistic, p_value, _, _ = chi2_contingency(landscape.fit_transform([control_dim1])[0], landscape.fit_transform([AD_dim1])[0])\n",
    "                except ValueError:\n",
    "                    statistic, p_value = -1, -1\n",
    "            print(f\"{dataset}, {method}, dim 1, Test Statistic:\", statistic)\n",
    "            print(f\"{dataset}, {method}, dim 1,  P-value:\", p_value)\n",
    "            table_dataset_1.append([method, p_value])\n",
    "        table_test.append([test, 'Dim 0', dataset, table_dataset_0])\n",
    "        table_test.append([test, 'Dim 1', dataset, table_dataset_1])\n",
    "    table.append(table_test)"
   ]
  },
  {
   "cell_type": "code",
   "execution_count": null,
   "id": "440c9aa3",
   "metadata": {},
   "outputs": [],
   "source": [
    "table"
   ]
  },
  {
   "cell_type": "markdown",
   "id": "0c521e2a",
   "metadata": {},
   "source": [
    "### Weights distribution"
   ]
  },
  {
   "cell_type": "code",
   "execution_count": null,
   "id": "b3557649",
   "metadata": {},
   "outputs": [],
   "source": [
    "datasets = ['GenesExtended', 'Genes'] # Genes, GenesExtended\n",
    "methods = ['', 'Basic AutoEncoder_', 'Topological AutoEncoder_',\n",
    "           #'PCA_', 'tSNE_', \n",
    "           'UMAP_'] \n",
    "\n",
    "tests = ['KS']"
   ]
  },
  {
   "cell_type": "code",
   "execution_count": null,
   "id": "d42ebc08",
   "metadata": {},
   "outputs": [],
   "source": [
    "table = []\n",
    "for test in tests:\n",
    "    table_test = []\n",
    "    for dataset in datasets:\n",
    "        table_dataset = []\n",
    "        for method in methods:       \n",
    "            # loading data\n",
    "            hist_AD = load_data(f'{dataset}/diagrams/{method}hist_AD_0.npy')\n",
    "            hist_AD_range = load_data(f'{dataset}/diagrams/{method}hist_AD_1.npy')\n",
    "            hist_control = load_data(f'{dataset}/diagrams/{method}hist_control_0.npy')\n",
    "            hist_control_range = load_data(f'{dataset}/diagrams/{method}hist_control_1.npy')\n",
    "\n",
    "            if test == 'KS':\n",
    "                # Kolmogorov-Smirnov test\n",
    "                statistic, p_value = ks_2samp(hist_AD, hist_control)\n",
    "            elif test == 'Chi2':\n",
    "                statistic, p_value, _, _ = chi2_contingency(hist_AD, hist_control)\n",
    "            print(f\"{dataset}, {test}, Test Statistic:\", statistic)\n",
    "            print(f\"{dataset}, {test}, P-value:\", p_value)\n",
    "            table_dataset.append([method, dataset, p_value])       \n",
    "        table_test.append([dataset, table_dataset])\n",
    "    table.append(table_test)"
   ]
  },
  {
   "cell_type": "code",
   "execution_count": null,
   "id": "f0abd57c",
   "metadata": {},
   "outputs": [],
   "source": [
    "table"
   ]
  },
  {
   "cell_type": "markdown",
   "id": "6a48dba5",
   "metadata": {},
   "source": [
    "# fMRI data"
   ]
  },
  {
   "cell_type": "code",
   "execution_count": null,
   "id": "b00e1275",
   "metadata": {},
   "outputs": [],
   "source": [
    "datasets = ['ADNI', 'CNI', 'OASIS'] "
   ]
  },
  {
   "cell_type": "markdown",
   "id": "a93f4971",
   "metadata": {},
   "source": [
    "### Persistence diagrams"
   ]
  },
  {
   "cell_type": "code",
   "execution_count": null,
   "id": "cf417069",
   "metadata": {},
   "outputs": [],
   "source": [
    "table = []\n",
    "for dataset in datasets:\n",
    "    table_dataset_0 = []\n",
    "    table_dataset_1 = []\n",
    "    \n",
    "    # loading data\n",
    "    AD_dim0 = load_data(f'fMRI_results/{dataset}/AD_diagram_0.npy')\n",
    "    control_dim0 = load_data(f'fMRI_results/{dataset}/control_diagram_0.npy')\n",
    "    AD_dim1 = load_data(f'fMRI_results/{dataset}/AD_diagram_1.npy')\n",
    "    control_dim1 = load_data(f'fMRI_results/{dataset}/control_diagram_1.npy')\n",
    "\n",
    "\n",
    "    # 0 dim test\n",
    "    # Kolmogorov-Smirnov test\n",
    "    statistic, p_value = ks_2samp(control_dim0[:, 1], AD_dim0[:, 1])\n",
    "    print(f\"{dataset}, dim 0, Test Statistic:\", statistic)\n",
    "    print(f\"{dataset}, dim 0,  P-value:\", p_value)\n",
    "    table_dataset_0.append([p_value])\n",
    "\n",
    "    # 1 dim test\n",
    "    landscape = gd.representations.Landscape(resolution=200)\n",
    "    # Kolmogorov-Smirnov test\n",
    "    statistic, p_value = ks_2samp(landscape.fit_transform([control_dim1])[0], landscape.fit_transform([AD_dim1])[0])\n",
    "    print(f\"{dataset}, dim 1, Test Statistic:\", statistic)\n",
    "    print(f\"{dataset}, dim 1,  P-value:\", p_value)\n",
    "    table_dataset_1.append([p_value])\n",
    "    table.append([dataset, 'Dim 0', table_dataset_0])\n",
    "    table.append([dataset, 'Dim 1', table_dataset_1])"
   ]
  },
  {
   "cell_type": "code",
   "execution_count": null,
   "id": "07e9fbb4",
   "metadata": {},
   "outputs": [],
   "source": [
    "table"
   ]
  },
  {
   "cell_type": "markdown",
   "id": "b8b5f6ed",
   "metadata": {},
   "source": [
    "### Weight distribution"
   ]
  },
  {
   "cell_type": "code",
   "execution_count": null,
   "id": "e85f8c76",
   "metadata": {},
   "outputs": [],
   "source": [
    "table = []\n",
    "for dataset in datasets:\n",
    "    table_dataset = []     \n",
    "    # loading data\n",
    "    hist_AD = load_data(f'fMRI_results/{dataset}/hist_AD_0.npy')\n",
    "    hist_AD_range = load_data(f'fMRI_results/{dataset}/hist_AD_1.npy')\n",
    "    hist_control = load_data(f'fMRI_results/{dataset}/hist_control_0.npy')\n",
    "    hist_control_range = load_data(f'fMRI_results/{dataset}/hist_control_1.npy')\n",
    "\n",
    "    # Kolmogorov-Smirnov test\n",
    "    statistic, p_value = ks_2samp(hist_AD, hist_control)\n",
    "    print(f\"{dataset}, Test Statistic:\", statistic)\n",
    "    print(f\"{dataset}, P-value:\", p_value)\n",
    "    table_dataset.append([dataset, p_value])\n",
    "    table.append(table_dataset)"
   ]
  },
  {
   "cell_type": "code",
   "execution_count": null,
   "id": "20600539",
   "metadata": {},
   "outputs": [],
   "source": [
    "table"
   ]
  },
  {
   "cell_type": "code",
   "execution_count": null,
   "id": "f52b7e81",
   "metadata": {},
   "outputs": [],
   "source": [
    "dataset = 'ADNI'\n",
    "hist_AD = load_data(f'fMRI_results/{dataset}/hist_AD_0.npy')\n",
    "hist_AD_range = load_data(f'fMRI_results/{dataset}/hist_AD_1.npy')\n",
    "hist_control = load_data(f'fMRI_results/{dataset}/hist_control_0.npy')\n",
    "hist_control_range = load_data(f'fMRI_results/{dataset}/hist_control_1.npy')"
   ]
  },
  {
   "cell_type": "code",
   "execution_count": null,
   "id": "6c17550b",
   "metadata": {},
   "outputs": [],
   "source": [
    "plt.bar(hist_AD_range[:-1], hist_AD, width=(hist_AD_range[1] - hist_AD_range[0]), label = 'patients', alpha = 0.5)\n",
    "plt.bar(hist_control_range[:-1], hist_control, width=(hist_control_range[1] - hist_control_range[0]), color='r',\n",
    "        label = 'controls', alpha = 0.5)\n",
    "plt.title(f'Weights distribution. {dataset} dataset.')\n",
    "plt.legend()\n",
    "plt.show()"
   ]
  },
  {
   "cell_type": "code",
   "execution_count": null,
   "id": "0dfa7439",
   "metadata": {},
   "outputs": [],
   "source": []
  }
 ],
 "metadata": {
  "kernelspec": {
   "display_name": "Python 3 (ipykernel)",
   "language": "python",
   "name": "python3"
  },
  "language_info": {
   "codemirror_mode": {
    "name": "ipython",
    "version": 3
   },
   "file_extension": ".py",
   "mimetype": "text/x-python",
   "name": "python",
   "nbconvert_exporter": "python",
   "pygments_lexer": "ipython3",
   "version": "3.9.13"
  }
 },
 "nbformat": 4,
 "nbformat_minor": 5
}
