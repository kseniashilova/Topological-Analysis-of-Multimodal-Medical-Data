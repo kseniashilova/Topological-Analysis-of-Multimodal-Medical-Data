{
 "cells": [
  {
   "cell_type": "code",
   "execution_count": null,
   "id": "2ae11b43",
   "metadata": {},
   "outputs": [],
   "source": [
    "import pandas as pd\n",
    "import numpy as np\n",
    "import matplotlib.pyplot as plt\n",
    "import seaborn as sns\n",
    "import matplotlib\n",
    "from pathlib import Path"
   ]
  },
  {
   "cell_type": "code",
   "execution_count": null,
   "id": "19c21b80",
   "metadata": {},
   "outputs": [],
   "source": [
    "from nilearn.connectome import ConnectivityMeasure\n",
    "from nilearn import plotting"
   ]
  },
  {
   "cell_type": "code",
   "execution_count": null,
   "id": "1ff98c46",
   "metadata": {},
   "outputs": [],
   "source": [
    "import gudhi as gd\n",
    "import gudhi.representations"
   ]
  },
  {
   "cell_type": "markdown",
   "id": "ce4b2ab7",
   "metadata": {},
   "source": [
    "# Loading data"
   ]
  },
  {
   "cell_type": "code",
   "execution_count": null,
   "id": "4f602d8e",
   "metadata": {},
   "outputs": [],
   "source": [
    "dataset = 'GenesExtended' # GenesExtended, Genes\n",
    "method_name = 'Basic AutoEncoder' # Basic AutoEncoder, Topological AutoEncoder, PCA, UMAP, tSNE"
   ]
  },
  {
   "cell_type": "code",
   "execution_count": null,
   "id": "79a0a1b6",
   "metadata": {},
   "outputs": [],
   "source": [
    "labels = np.load(f\"{dataset}/{method_name}_labels_d16.npy\")\n",
    "data = np.load(f\"{dataset}/{method_name}_output_d16.npy\")"
   ]
  },
  {
   "cell_type": "code",
   "execution_count": null,
   "id": "cee1dc70",
   "metadata": {},
   "outputs": [],
   "source": [
    "df = pd.DataFrame(data)\n",
    "df"
   ]
  },
  {
   "cell_type": "code",
   "execution_count": null,
   "id": "1c5b0dec",
   "metadata": {},
   "outputs": [],
   "source": [
    "df_matrix_AD = df.iloc[labels == 0]\n",
    "df_matrix_control = df.iloc[labels == 1]"
   ]
  },
  {
   "cell_type": "code",
   "execution_count": null,
   "id": "f65fe23b",
   "metadata": {},
   "outputs": [],
   "source": [
    "df_matrix_AD"
   ]
  },
  {
   "cell_type": "code",
   "execution_count": null,
   "id": "58b9e172",
   "metadata": {},
   "outputs": [],
   "source": [
    "df_matrix_control"
   ]
  },
  {
   "cell_type": "markdown",
   "id": "fbcf0075",
   "metadata": {},
   "source": [
    "### Data view"
   ]
  },
  {
   "cell_type": "code",
   "execution_count": null,
   "id": "dab68f74",
   "metadata": {},
   "outputs": [],
   "source": [
    "class DataGeneExpressions:\n",
    "    \n",
    "    #input parameters\n",
    "    expressions = None\n",
    "    labels = None\n",
    "    phenotypes_array = []\n",
    "    connectivity_measure_kind = None\n",
    "    rips_complex_max_dimension = None\n",
    "    \n",
    "    #derived parameters\n",
    "    matrix = None\n",
    "    diagram = None\n",
    "    simplex_tree = None\n",
    "    \n",
    "    def __init__(self, expressions, phenotype, labels,\n",
    "                 connectivity_measure_kind='correlation', \n",
    "                 rips_complex_max_dimension=2):\n",
    "        self.expressions = expressions.loc[labels]\n",
    "        self.labels = labels\n",
    "        self.phenotype = phenotype\n",
    "        self.connectivity_measure_kind = connectivity_measure_kind\n",
    "        self.rips_complex_max_dimension = rips_complex_max_dimension\n",
    "        \n",
    "        # create matrix for each time_series\n",
    "        self.create_matrix()  \n",
    "        # Rips complex and persistent diagrams\n",
    "        self.create_persistence_view()\n",
    "        \n",
    "    def create_matrix(self):\n",
    "        measure = ConnectivityMeasure(kind=self.connectivity_measure_kind)\n",
    "        self.matrix = measure.fit_transform([self.expressions.values.T])[0]\n",
    "            \n",
    "        \n",
    "    def create_persistence_view(self):\n",
    "        rips_complex = gudhi.RipsComplex(distance_matrix=1-self.matrix, max_edge_length=2)\n",
    "        simplex_tree = rips_complex.create_simplex_tree(max_dimension=self.rips_complex_max_dimension)\n",
    "        diag=simplex_tree.persistence()\n",
    "        self.diagram = diag\n",
    "        self.simplex_tree = simplex_tree\n",
    "    \n",
    "    \n",
    "    def get_persistence_intervals(self, dim):\n",
    "        return self.simplex_tree.persistence_intervals_in_dimension(dim)\n",
    "        \n",
    "        \n",
    "    # visualize\n",
    "    \n",
    "    def plot_matrix(self, reorder=True):\n",
    "        matrix=self.matrix.copy()\n",
    "        np.fill_diagonal(matrix, 0)\n",
    "        print(len(self.labels), matrix.shape)\n",
    "        ax = plotting.plot_matrix(matrix, figure=(10, 8), labels=range(len(self.labels)), \n",
    "                             vmax=1, vmin=-1, reorder=reorder)\n",
    "        return self.labels[[int(lbl.get_text()) for lbl in ax.axes.get_xticklabels()]]\n",
    "            \n",
    "        \n",
    "    def plot_persistence_diagram(self):\n",
    "        gudhi.plot_persistence_diagram(self.diagram, legend=True, max_intervals=0)\n",
    "        \n",
    "    def plot_persistence_barcode(self):\n",
    "        gudhi.plot_persistence_barcode(self.diagram, legend=True, max_intervals=0)\n",
    "        \n",
    "    def plot_persistence_density(self):\n",
    "        gudhi.plot_persistence_density(self.diagram, dimension=1)\n",
    "        "
   ]
  },
  {
   "cell_type": "code",
   "execution_count": null,
   "id": "6457eb7e",
   "metadata": {},
   "outputs": [],
   "source": [
    "data_genes_AD = DataGeneExpressions(df_matrix_AD.T, phenotype = 'AD',\n",
    "                                    labels = df_matrix_AD.T.index, \n",
    "                                   rips_complex_max_dimension=2)"
   ]
  },
  {
   "cell_type": "code",
   "execution_count": null,
   "id": "20192c45",
   "metadata": {},
   "outputs": [],
   "source": [
    "data_genes_control = DataGeneExpressions(df_matrix_control.T, phenotype = 'CN',\n",
    "                                         labels = df_matrix_control.T.index,\n",
    "                                        rips_complex_max_dimension=2)"
   ]
  },
  {
   "cell_type": "code",
   "execution_count": null,
   "id": "8d23eec8",
   "metadata": {},
   "outputs": [],
   "source": [
    "data_genes_control.plot_persistence_diagram()"
   ]
  },
  {
   "cell_type": "code",
   "execution_count": null,
   "id": "d11b7763",
   "metadata": {},
   "outputs": [],
   "source": [
    "data_genes_AD.plot_persistence_diagram()"
   ]
  },
  {
   "cell_type": "code",
   "execution_count": null,
   "id": "7628c74b",
   "metadata": {},
   "outputs": [],
   "source": [
    "data_genes_control.plot_persistence_barcode()"
   ]
  },
  {
   "cell_type": "code",
   "execution_count": null,
   "id": "00b4d49c",
   "metadata": {},
   "outputs": [],
   "source": [
    "data_genes_AD.plot_persistence_barcode()"
   ]
  },
  {
   "cell_type": "markdown",
   "id": "9807f532",
   "metadata": {},
   "source": [
    "# Results"
   ]
  },
  {
   "cell_type": "code",
   "execution_count": null,
   "id": "3602b6f9",
   "metadata": {},
   "outputs": [],
   "source": [
    "import matplotlib.patches as mpatches"
   ]
  },
  {
   "cell_type": "markdown",
   "id": "fd9b2f4f",
   "metadata": {},
   "source": [
    "### Dim 0"
   ]
  },
  {
   "cell_type": "code",
   "execution_count": null,
   "id": "39b8a64d",
   "metadata": {},
   "outputs": [],
   "source": [
    "intervals_array_control_0 = data_genes_control.get_persistence_intervals(0)\n",
    "intervals_array_patient_0 = data_genes_AD.get_persistence_intervals(0)"
   ]
  },
  {
   "cell_type": "code",
   "execution_count": null,
   "id": "4fe74caf",
   "metadata": {},
   "outputs": [],
   "source": [
    "data_dim0 = []\n",
    "for item in np.vstack(intervals_array_control_0):\n",
    "    data_dim0.append((0, (item[0], item[1])))\n",
    "for item in np.vstack(intervals_array_patient_0):\n",
    "    data_dim0.append((1, (item[0], item[1])))\n",
    "    \n",
    "axis = gudhi.plot_persistence_diagram(data_dim0, legend=True, max_intervals=0, fontsize=10)\n",
    "axis.set_title('H0. Both controls and AD patients')\n",
    "patch1 = mpatches.Patch(color='red', label='Control')\n",
    "patch2 = mpatches.Patch(color='blue', label='Patient')\n",
    "axis.legend(handles=[patch1, patch2])"
   ]
  },
  {
   "cell_type": "code",
   "execution_count": null,
   "id": "6f8e7ca0",
   "metadata": {},
   "outputs": [],
   "source": [
    "fig, ax = plt.subplots(1, 2, figsize=(10,4))\n",
    "patch1 = mpatches.Patch(color='red', label='Control')\n",
    "patch2 = mpatches.Patch(color='blue', label='Patient')\n",
    "\n",
    "gudhi.plot_persistence_diagram(np.vstack(intervals_array_control_0), legend=True, max_intervals=0, colormap='red',\n",
    "                                      axes=ax[0], fontsize=10)\n",
    "ax[0].set_title('Control dim 0')\n",
    "ax[0].legend(handles=[patch1], loc='upper right')\n",
    "\n",
    "\n",
    "gudhi.plot_persistence_diagram(np.vstack(intervals_array_patient_0), legend=True, max_intervals=0, colormap='blue',\n",
    "                                     axes=ax[1], fontsize=10)\n",
    "ax[1].set_title('Patient dim 0')\n",
    "ax[1].legend(handles=[patch2], loc='upper right')\n"
   ]
  },
  {
   "cell_type": "markdown",
   "id": "32977a40",
   "metadata": {},
   "source": [
    "### Dim 1"
   ]
  },
  {
   "cell_type": "code",
   "execution_count": null,
   "id": "c79c97b6",
   "metadata": {},
   "outputs": [],
   "source": [
    "intervals_array_control_1 = data_genes_control.get_persistence_intervals(1)\n",
    "intervals_array_patient_1 = data_genes_AD.get_persistence_intervals(1)"
   ]
  },
  {
   "cell_type": "code",
   "execution_count": null,
   "id": "05117406",
   "metadata": {},
   "outputs": [],
   "source": [
    "data_dim1 = []\n",
    "for item in np.vstack(intervals_array_control_1):\n",
    "    data_dim1.append((0, (item[0], item[1])))\n",
    "for item in np.vstack(intervals_array_patient_1):\n",
    "    data_dim1.append((1, (item[0], item[1])))\n",
    "    \n",
    "axis = gudhi.plot_persistence_diagram(data_dim1, legend=True, max_intervals=0, fontsize=10)\n",
    "axis.set_title('H1. Both patients (AD + LMCI) and controls')\n",
    "patch1 = mpatches.Patch(color='red', label='Control')\n",
    "patch2 = mpatches.Patch(color='blue', label='Patient')\n",
    "axis.legend(handles=[patch1, patch2])"
   ]
  },
  {
   "cell_type": "code",
   "execution_count": null,
   "id": "6c8fd7cc",
   "metadata": {},
   "outputs": [],
   "source": [
    "axis = gudhi.plot_persistence_barcode(data_genes_AD.diagram, legend=True, max_intervals=0, fontsize=10, alpha=0.8)\n",
    "axis.set_title('AD patients')\n",
    "patch1 = mpatches.Patch(color='red', label='dim 0')\n",
    "patch2 = mpatches.Patch(color='blue', label='dim 1')\n",
    "axis.legend(handles=[patch1, patch2])"
   ]
  },
  {
   "cell_type": "code",
   "execution_count": null,
   "id": "780b01eb",
   "metadata": {},
   "outputs": [],
   "source": [
    "axis = gudhi.plot_persistence_barcode(data_genes_control.diagram, legend=True, max_intervals=0, fontsize=10, alpha=0.8)\n",
    "axis.set_title('Controls')\n",
    "patch1 = mpatches.Patch(color='red', label='dim 0')\n",
    "patch2 = mpatches.Patch(color='blue', label='dim 1')\n",
    "axis.legend(handles=[patch1, patch2])"
   ]
  },
  {
   "cell_type": "code",
   "execution_count": null,
   "id": "c8224c6b",
   "metadata": {},
   "outputs": [],
   "source": [
    "colors1 = [matplotlib.cm.Set2.colors[0], 'red']\n",
    "colors2 = ['red', matplotlib.cm.Set2.colors[0]]"
   ]
  },
  {
   "cell_type": "code",
   "execution_count": null,
   "id": "71f3bcd0",
   "metadata": {},
   "outputs": [],
   "source": [
    "axis = gudhi.plot_persistence_barcode(data_genes_control.diagram,\n",
    "                                      legend=True,\n",
    "                                      fontsize=10,colormap=colors2,\n",
    "                                      alpha=0.5)\n",
    "gudhi.plot_persistence_barcode(data_genes_AD.diagram,\n",
    "                               legend=True, fontsize=10, alpha=0.5,\n",
    "                               colormap=colors1, axes=axis)\n",
    "patch1 = mpatches.Patch(color='red', label='Control')\n",
    "patch2 = mpatches.Patch(color=matplotlib.cm.Set2.colors[0], label='Patient')\n",
    "axis.legend(handles=[patch1, patch2])\n",
    "axis.set_title('H0 and H1. Both patients and controls')"
   ]
  },
  {
   "cell_type": "code",
   "execution_count": null,
   "id": "774833bf",
   "metadata": {},
   "outputs": [],
   "source": [
    "print(data_genes_control.matrix.mean(), data_genes_AD.matrix.mean())"
   ]
  },
  {
   "cell_type": "code",
   "execution_count": null,
   "id": "d95c1692",
   "metadata": {
    "scrolled": false
   },
   "outputs": [],
   "source": [
    "axis = gudhi.plot_persistence_diagram(data_genes_control.diagram,\n",
    "                                      legend=True,\n",
    "                                      fontsize=10,colormap=colors2,\n",
    "                                      alpha=0.5, \n",
    "                                      #inf_delta = 0.226\n",
    "                                     )\n",
    "gudhi.plot_persistence_diagram(data_genes_AD.diagram,\n",
    "                               legend=True, fontsize=10, alpha=0.5,\n",
    "                               colormap=colors1, axes=axis)\n",
    "patch1 = mpatches.Patch(color='red', label='Control')\n",
    "patch2 = mpatches.Patch(color=matplotlib.cm.Set2.colors[0], label='Patient')\n",
    "axis.legend(handles=[patch1, patch2])\n",
    "axis.set_title('H0 and H1. Both patients and controls')"
   ]
  },
  {
   "cell_type": "markdown",
   "id": "aa13302d",
   "metadata": {},
   "source": [
    "# Saving"
   ]
  },
  {
   "cell_type": "markdown",
   "id": "4e0a8707",
   "metadata": {},
   "source": [
    "Save diagrams"
   ]
  },
  {
   "cell_type": "code",
   "execution_count": null,
   "id": "1c7930a8",
   "metadata": {},
   "outputs": [],
   "source": [
    "np.save(f'{dataset}/diagrams/{method_name}_control_diagram_0.npy', data_genes_control.get_persistence_intervals(0))\n",
    "np.save(f'{dataset}/diagrams/{method_name}_control_diagram_1.npy', data_genes_control.get_persistence_intervals(1))\n",
    "np.save(f'{dataset}/diagrams/{method_name}_AD_diagram_0.npy', data_genes_AD.get_persistence_intervals(0))\n",
    "np.save(f'{dataset}/diagrams/{method_name}_AD_diagram_1.npy', data_genes_AD.get_persistence_intervals(1))"
   ]
  },
  {
   "cell_type": "markdown",
   "id": "0888121b",
   "metadata": {},
   "source": [
    "Save weights"
   ]
  },
  {
   "cell_type": "code",
   "execution_count": null,
   "id": "68d94b59",
   "metadata": {},
   "outputs": [],
   "source": [
    "matrix_control = data_genes_control.matrix.copy()\n",
    "np.fill_diagonal(matrix_control, np.nan)\n",
    "matrix_control"
   ]
  },
  {
   "cell_type": "code",
   "execution_count": null,
   "id": "3ec7654f",
   "metadata": {},
   "outputs": [],
   "source": [
    "matrix_AD = data_genes_AD.matrix.copy()\n",
    "np.fill_diagonal(matrix_AD, np.nan)\n",
    "matrix_AD"
   ]
  },
  {
   "cell_type": "code",
   "execution_count": null,
   "id": "2457ae6f",
   "metadata": {},
   "outputs": [],
   "source": [
    "hist_AD = plt.hist(matrix_AD.flatten(),bins=50)"
   ]
  },
  {
   "cell_type": "code",
   "execution_count": null,
   "id": "05685f30",
   "metadata": {},
   "outputs": [],
   "source": [
    "hist_control = plt.hist(matrix_control.flatten(),bins=50)"
   ]
  },
  {
   "cell_type": "code",
   "execution_count": null,
   "id": "152714c7",
   "metadata": {},
   "outputs": [],
   "source": [
    "np.save(f'{dataset}/diagrams/{method_name}_hist_control_0.npy', hist_control[0])\n",
    "np.save(f'{dataset}/diagrams/{method_name}_hist_AD_0.npy', hist_AD[0])\n",
    "np.save(f'{dataset}/diagrams/{method_name}_hist_control_1.npy', hist_control[1])\n",
    "np.save(f'{dataset}/diagrams/{method_name}_hist_AD_1.npy', hist_AD[1])"
   ]
  },
  {
   "cell_type": "code",
   "execution_count": null,
   "id": "e6fa5026",
   "metadata": {},
   "outputs": [],
   "source": []
  }
 ],
 "metadata": {
  "kernelspec": {
   "display_name": "Python 3 (ipykernel)",
   "language": "python",
   "name": "python3"
  },
  "language_info": {
   "codemirror_mode": {
    "name": "ipython",
    "version": 3
   },
   "file_extension": ".py",
   "mimetype": "text/x-python",
   "name": "python",
   "nbconvert_exporter": "python",
   "pygments_lexer": "ipython3",
   "version": "3.9.13"
  }
 },
 "nbformat": 4,
 "nbformat_minor": 5
}
