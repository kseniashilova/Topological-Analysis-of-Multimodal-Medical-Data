{
 "cells": [
  {
   "cell_type": "code",
   "execution_count": null,
   "id": "2ae11b43",
   "metadata": {},
   "outputs": [],
   "source": [
    "import pandas as pd\n",
    "import numpy as np\n",
    "import matplotlib.pyplot as plt\n",
    "import seaborn as sns\n",
    "import matplotlib\n",
    "from pathlib import Path"
   ]
  },
  {
   "cell_type": "code",
   "execution_count": null,
   "id": "19c21b80",
   "metadata": {},
   "outputs": [],
   "source": [
    "from nilearn.connectome import ConnectivityMeasure\n",
    "from nilearn import plotting"
   ]
  },
  {
   "cell_type": "code",
   "execution_count": null,
   "id": "1ff98c46",
   "metadata": {},
   "outputs": [],
   "source": [
    "import gudhi as gd\n",
    "import gudhi.representations"
   ]
  },
  {
   "cell_type": "markdown",
   "id": "5cad67b4",
   "metadata": {},
   "source": [
    "# Loading data"
   ]
  },
  {
   "cell_type": "code",
   "execution_count": null,
   "id": "8c27aeaa",
   "metadata": {},
   "outputs": [],
   "source": [
    "df = pd.read_csv('ADNI_Gene_Expression_Profile/ADNI_Gene_Expression_Profile.csv', low_memory=False)"
   ]
  },
  {
   "cell_type": "code",
   "execution_count": null,
   "id": "8a10a3ac",
   "metadata": {},
   "outputs": [],
   "source": [
    "subj_table_1 = pd.read_csv('ADNI_Gene_Expression_Profile/ADNI_Training_Q1_APOE_July22.2014.csv', low_memory=False)\n",
    "subj_list_1 = subj_table_1[['PTID','DX.bl']].values\n",
    "subj_table_2 = pd.read_csv('ADNI_Gene_Expression_Profile/ADNI_Training_Q3_APOE_CollectionADNI1Complete_July22.2014.csv', low_memory=False)\n",
    "subj_list_2 = subj_table_2[['Subject','DX.bl']].values\n",
    "subj_list = np.concatenate([subj_list_1,subj_list_2])\n",
    "subj_list\n",
    "print(len(subj_list_1), len(subj_list_2), len(subj_list))"
   ]
  },
  {
   "cell_type": "code",
   "execution_count": null,
   "id": "79d164ac",
   "metadata": {},
   "outputs": [],
   "source": [
    "dataset_name = 'Genes' # Genes, GenesExtended"
   ]
  },
  {
   "cell_type": "code",
   "execution_count": null,
   "id": "0e6b879f",
   "metadata": {},
   "outputs": [],
   "source": [
    "if dataset_name == 'GenesExtended':\n",
    "    subjects_AD = [item[0] for item in subj_list if ((item[1]=='AD') or (item[1]=='LMCI')) ]\n",
    "elif dataset_name == 'Genes':\n",
    "    subjects_AD = [item[0] for item in subj_list if (item[1]=='AD')]\n",
    "subjects_control = [item[0] for item in subj_list if item[1]=='CN' ]"
   ]
  },
  {
   "cell_type": "code",
   "execution_count": null,
   "id": "e504684e",
   "metadata": {},
   "outputs": [],
   "source": [
    "subjects = subjects_AD + subjects_control"
   ]
  },
  {
   "cell_type": "markdown",
   "id": "1b1563f5",
   "metadata": {},
   "source": [
    "### Choose markers of AD"
   ]
  },
  {
   "cell_type": "code",
   "execution_count": null,
   "id": "8c43bc4f",
   "metadata": {},
   "outputs": [],
   "source": [
    "genes_df = pd.read_csv('ADNI_Gene_Expression_Profile/genes/gene.csv', sep=';', header=None)\n",
    "genes_df"
   ]
  },
  {
   "cell_type": "code",
   "execution_count": null,
   "id": "1f0e6e5c",
   "metadata": {},
   "outputs": [],
   "source": [
    "genes_array=genes_df[1][1:200]\n",
    "genes_array"
   ]
  },
  {
   "cell_type": "code",
   "execution_count": null,
   "id": "59ec6173",
   "metadata": {},
   "outputs": [],
   "source": [
    "genes_array_existed = [gene_symb for gene_symb in genes_array if gene_symb in set(df['Unnamed: 2'][8:])]"
   ]
  },
  {
   "cell_type": "code",
   "execution_count": null,
   "id": "345204a6",
   "metadata": {},
   "outputs": [],
   "source": [
    "len(genes_array_existed)"
   ]
  },
  {
   "cell_type": "code",
   "execution_count": null,
   "id": "825d2213",
   "metadata": {},
   "outputs": [],
   "source": [
    "df_top_genes = df.iloc[[item in genes_array_existed for item in df['Unnamed: 2']]]\n",
    "df_top_genes"
   ]
  },
  {
   "cell_type": "code",
   "execution_count": null,
   "id": "5a6ad186",
   "metadata": {},
   "outputs": [],
   "source": [
    "#df_matrix = df.loc[range(8, df.shape[0])][df.columns[3:-1]]\n",
    "df_matrix = df_top_genes[df.columns[3:-1]]\n",
    "df_matrix"
   ]
  },
  {
   "cell_type": "code",
   "execution_count": null,
   "id": "a8cc49e9",
   "metadata": {},
   "outputs": [],
   "source": [
    "gene_subjects = df[df.columns[3:-1]].loc[1]\n",
    "gene_subjects"
   ]
  },
  {
   "cell_type": "code",
   "execution_count": null,
   "id": "4b9cf55d",
   "metadata": {},
   "outputs": [],
   "source": [
    "labels = np.array(gene_subjects)[np.array([ item in subjects for item in list(gene_subjects)])]\n",
    "labels"
   ]
  },
  {
   "cell_type": "code",
   "execution_count": null,
   "id": "4e16a6e2",
   "metadata": {},
   "outputs": [],
   "source": [
    "df_matrix_AD = df_matrix[df_matrix.columns[np.array([ item in subjects_AD for item in list(gene_subjects)])]]\n",
    "df_matrix_AD"
   ]
  },
  {
   "cell_type": "code",
   "execution_count": null,
   "id": "2fc7086e",
   "metadata": {},
   "outputs": [],
   "source": [
    "df_matrix_control = df_matrix[df_matrix.columns[np.array([ item in subjects_control for item in list(gene_subjects)])]]\n",
    "df_matrix_control"
   ]
  },
  {
   "cell_type": "code",
   "execution_count": null,
   "id": "2b0dfe1a",
   "metadata": {},
   "outputs": [],
   "source": [
    "indexes = df_top_genes[df.columns[2]] + '_' + list(map(str, df_top_genes.index))\n",
    "print(indexes)"
   ]
  },
  {
   "cell_type": "code",
   "execution_count": null,
   "id": "8cef109a",
   "metadata": {},
   "outputs": [],
   "source": [
    "df_top_genes"
   ]
  },
  {
   "cell_type": "code",
   "execution_count": null,
   "id": "9658d773",
   "metadata": {},
   "outputs": [],
   "source": [
    "df_matrix_control = df_matrix_control.astype(float)\n",
    "df_matrix_AD = df_matrix_AD.astype(float)"
   ]
  },
  {
   "cell_type": "code",
   "execution_count": null,
   "id": "4ca039e6",
   "metadata": {},
   "outputs": [],
   "source": [
    "df_matrix_control = df_matrix_control.set_index(indexes)\n",
    "df_matrix_AD = df_matrix_AD.set_index(indexes)"
   ]
  },
  {
   "cell_type": "code",
   "execution_count": null,
   "id": "836795d0",
   "metadata": {},
   "outputs": [],
   "source": [
    "df_matrix_AD_normed = df_matrix_AD / df_matrix_AD.sum(axis=0)\n",
    "df_matrix_control_normed = df_matrix_control / df_matrix_control.sum(axis=0)"
   ]
  },
  {
   "cell_type": "markdown",
   "id": "fbcf0075",
   "metadata": {},
   "source": [
    "### Data view"
   ]
  },
  {
   "cell_type": "code",
   "execution_count": null,
   "id": "dab68f74",
   "metadata": {},
   "outputs": [],
   "source": [
    "class DataGeneExpressions:\n",
    "    \n",
    "    #input parameters\n",
    "    expressions = None\n",
    "    labels = None\n",
    "    phenotypes_array = []\n",
    "    connectivity_measure_kind = None\n",
    "    rips_complex_max_dimension = None\n",
    "    \n",
    "    #derived parameters\n",
    "    matrix = None\n",
    "    diagram = None\n",
    "    simplex_tree = None\n",
    "    \n",
    "    def __init__(self, expressions, phenotype, labels,\n",
    "                 connectivity_measure_kind='correlation', \n",
    "                 rips_complex_max_dimension=2):\n",
    "        self.expressions = expressions.loc[labels]\n",
    "        self.labels = labels\n",
    "        self.phenotype = phenotype\n",
    "        self.connectivity_measure_kind = connectivity_measure_kind\n",
    "        self.rips_complex_max_dimension = rips_complex_max_dimension\n",
    "        \n",
    "        # create matrix for each time_series\n",
    "        self.create_matrix()  \n",
    "        # Rips complex and persistent diagrams\n",
    "        self.create_persistence_view()\n",
    "        \n",
    "    def create_matrix(self):\n",
    "        measure = ConnectivityMeasure(kind=self.connectivity_measure_kind)\n",
    "        self.matrix = measure.fit_transform([self.expressions.values.T])[0]\n",
    "            \n",
    "        \n",
    "    def create_persistence_view(self):\n",
    "        rips_complex = gudhi.RipsComplex(distance_matrix=1-self.matrix, max_edge_length=2)\n",
    "        simplex_tree = rips_complex.create_simplex_tree(max_dimension=self.rips_complex_max_dimension)\n",
    "        diag=simplex_tree.persistence()\n",
    "        self.diagram = diag\n",
    "        self.simplex_tree = simplex_tree\n",
    "    \n",
    "    \n",
    "    def get_persistence_intervals(self, dim):\n",
    "        return self.simplex_tree.persistence_intervals_in_dimension(dim)\n",
    "        \n",
    "        \n",
    "    # visualize\n",
    "    \n",
    "    def plot_matrix(self, reorder=True):\n",
    "        matrix=self.matrix.copy()\n",
    "        np.fill_diagonal(matrix, 0)\n",
    "        print(len(self.labels), matrix.shape)\n",
    "        ax = plotting.plot_matrix(matrix, figure=(10, 8), labels=range(len(self.labels)), \n",
    "                             vmax=1, vmin=-1, reorder=reorder)\n",
    "        return self.labels[[int(lbl.get_text()) for lbl in ax.axes.get_xticklabels()]]\n",
    "            \n",
    "        \n",
    "    def plot_persistence_diagram(self):\n",
    "        gudhi.plot_persistence_diagram(self.diagram, legend=True, max_intervals=0)\n",
    "        \n",
    "    def plot_persistence_barcode(self):\n",
    "        gudhi.plot_persistence_barcode(self.diagram, legend=True, max_intervals=0)\n",
    "        \n",
    "    def plot_persistence_density(self):\n",
    "        gudhi.plot_persistence_density(self.diagram, dimension=1)\n",
    "        "
   ]
  },
  {
   "cell_type": "code",
   "execution_count": null,
   "id": "6457eb7e",
   "metadata": {},
   "outputs": [],
   "source": [
    "data_genes_AD = DataGeneExpressions(df_matrix_AD, phenotype = 'AD',\n",
    "                                    labels = df_matrix_AD.index, \n",
    "                                   rips_complex_max_dimension=2)\n"
   ]
  },
  {
   "cell_type": "code",
   "execution_count": null,
   "id": "92aa3d6e",
   "metadata": {},
   "outputs": [],
   "source": [
    "reordered_labels = data_genes_AD.plot_matrix(reorder=True)"
   ]
  },
  {
   "cell_type": "code",
   "execution_count": null,
   "id": "20192c45",
   "metadata": {},
   "outputs": [],
   "source": [
    "data_genes_control = DataGeneExpressions(df_matrix_control, phenotype = 'CN',\n",
    "                                         labels = reordered_labels,\n",
    "                                        rips_complex_max_dimension=2)"
   ]
  },
  {
   "cell_type": "code",
   "execution_count": null,
   "id": "e172bf4e",
   "metadata": {},
   "outputs": [],
   "source": [
    "data_genes_control.plot_matrix(reorder=False)"
   ]
  },
  {
   "cell_type": "code",
   "execution_count": null,
   "id": "8d23eec8",
   "metadata": {},
   "outputs": [],
   "source": [
    "data_genes_control.plot_persistence_diagram()"
   ]
  },
  {
   "cell_type": "code",
   "execution_count": null,
   "id": "d11b7763",
   "metadata": {},
   "outputs": [],
   "source": [
    "data_genes_AD.plot_persistence_diagram()"
   ]
  },
  {
   "cell_type": "code",
   "execution_count": null,
   "id": "7628c74b",
   "metadata": {},
   "outputs": [],
   "source": [
    "data_genes_control.plot_persistence_barcode()"
   ]
  },
  {
   "cell_type": "code",
   "execution_count": null,
   "id": "00b4d49c",
   "metadata": {},
   "outputs": [],
   "source": [
    "data_genes_AD.plot_persistence_barcode()"
   ]
  },
  {
   "cell_type": "code",
   "execution_count": null,
   "id": "4d659546",
   "metadata": {},
   "outputs": [],
   "source": []
  },
  {
   "cell_type": "markdown",
   "id": "9807f532",
   "metadata": {},
   "source": [
    "# Results"
   ]
  },
  {
   "cell_type": "code",
   "execution_count": null,
   "id": "3602b6f9",
   "metadata": {},
   "outputs": [],
   "source": [
    "import matplotlib.patches as mpatches"
   ]
  },
  {
   "cell_type": "markdown",
   "id": "fd9b2f4f",
   "metadata": {},
   "source": [
    "### Dim 0"
   ]
  },
  {
   "cell_type": "code",
   "execution_count": null,
   "id": "39b8a64d",
   "metadata": {},
   "outputs": [],
   "source": [
    "intervals_array_control_0 = data_genes_control.get_persistence_intervals(0)\n",
    "intervals_array_patient_0 = data_genes_AD.get_persistence_intervals(0)"
   ]
  },
  {
   "cell_type": "code",
   "execution_count": null,
   "id": "4fe74caf",
   "metadata": {},
   "outputs": [],
   "source": [
    "data_dim0 = []\n",
    "for item in np.vstack(intervals_array_control_0):\n",
    "    data_dim0.append((0, (item[0], item[1])))\n",
    "for item in np.vstack(intervals_array_patient_0):\n",
    "    data_dim0.append((1, (item[0], item[1])))\n",
    "    \n",
    "axis = gudhi.plot_persistence_diagram(data_dim0, legend=True, max_intervals=0, fontsize=10)\n",
    "axis.set_title('H0. Both controls and AD patients')\n",
    "patch1 = mpatches.Patch(color='red', label='Control')\n",
    "patch2 = mpatches.Patch(color='blue', label='Patient')\n",
    "axis.legend(handles=[patch1, patch2])"
   ]
  },
  {
   "cell_type": "code",
   "execution_count": null,
   "id": "6f8e7ca0",
   "metadata": {},
   "outputs": [],
   "source": [
    "fig, ax = plt.subplots(1, 2, figsize=(10,4))\n",
    "patch1 = mpatches.Patch(color='red', label='Control')\n",
    "patch2 = mpatches.Patch(color='blue', label='Patient')\n",
    "\n",
    "gudhi.plot_persistence_diagram(np.vstack(intervals_array_control_0), legend=True, max_intervals=0, colormap='red',\n",
    "                                      axes=ax[0], fontsize=10)\n",
    "ax[0].set_title('Control dim 0')\n",
    "ax[0].legend(handles=[patch1], loc='upper right')\n",
    "\n",
    "\n",
    "gudhi.plot_persistence_diagram(np.vstack(intervals_array_patient_0), legend=True, max_intervals=0, colormap='blue',\n",
    "                                     axes=ax[1], fontsize=10)\n",
    "ax[1].set_title('Patient dim 0')\n",
    "ax[1].legend(handles=[patch2], loc='upper right')\n"
   ]
  },
  {
   "cell_type": "markdown",
   "id": "32977a40",
   "metadata": {},
   "source": [
    "### Dim 1"
   ]
  },
  {
   "cell_type": "code",
   "execution_count": null,
   "id": "c79c97b6",
   "metadata": {},
   "outputs": [],
   "source": [
    "intervals_array_control_1 = data_genes_control.get_persistence_intervals(1)\n",
    "intervals_array_patient_1 = data_genes_AD.get_persistence_intervals(1)"
   ]
  },
  {
   "cell_type": "code",
   "execution_count": null,
   "id": "05117406",
   "metadata": {},
   "outputs": [],
   "source": [
    "data_dim1 = []\n",
    "for item in np.vstack(intervals_array_control_1):\n",
    "    data_dim1.append((0, (item[0], item[1])))\n",
    "for item in np.vstack(intervals_array_patient_1):\n",
    "    data_dim1.append((1, (item[0], item[1])))\n",
    "    \n",
    "axis = gudhi.plot_persistence_diagram(data_dim1, legend=True, max_intervals=0, fontsize=10)\n",
    "axis.set_title('H1. Both patients (AD + LMCI) and controls')\n",
    "patch1 = mpatches.Patch(color='red', label='Control')\n",
    "patch2 = mpatches.Patch(color='blue', label='Patient')\n",
    "axis.legend(handles=[patch1, patch2])"
   ]
  },
  {
   "cell_type": "code",
   "execution_count": null,
   "id": "511a852e",
   "metadata": {},
   "outputs": [],
   "source": [
    "data_genes_control.diagram"
   ]
  },
  {
   "cell_type": "code",
   "execution_count": null,
   "id": "6c8fd7cc",
   "metadata": {},
   "outputs": [],
   "source": [
    "axis = gudhi.plot_persistence_barcode(data_genes_AD.diagram, legend=True, max_intervals=0, fontsize=10, alpha=0.8)\n",
    "axis.set_title('AD patients')\n",
    "patch1 = mpatches.Patch(color='red', label='dim 0')\n",
    "patch2 = mpatches.Patch(color='blue', label='dim 1')\n",
    "axis.legend(handles=[patch1, patch2])"
   ]
  },
  {
   "cell_type": "code",
   "execution_count": null,
   "id": "780b01eb",
   "metadata": {},
   "outputs": [],
   "source": [
    "axis = gudhi.plot_persistence_barcode(data_genes_control.diagram, legend=True, max_intervals=0, fontsize=10, alpha=0.8)\n",
    "axis.set_title('Controls')\n",
    "patch1 = mpatches.Patch(color='red', label='dim 0')\n",
    "patch2 = mpatches.Patch(color='blue', label='dim 1')\n",
    "axis.legend(handles=[patch1, patch2])"
   ]
  },
  {
   "cell_type": "code",
   "execution_count": null,
   "id": "c8224c6b",
   "metadata": {},
   "outputs": [],
   "source": [
    "colors1 = [matplotlib.cm.Set2.colors[0], 'red']\n",
    "colors2 = ['red', matplotlib.cm.Set2.colors[0]]"
   ]
  },
  {
   "cell_type": "code",
   "execution_count": null,
   "id": "71f3bcd0",
   "metadata": {},
   "outputs": [],
   "source": [
    "axis = gudhi.plot_persistence_barcode(data_genes_control.diagram,\n",
    "                                      legend=True,\n",
    "                                      fontsize=10,colormap=colors2,\n",
    "                                      alpha=0.5)\n",
    "gudhi.plot_persistence_barcode(data_genes_AD.diagram,\n",
    "                               legend=True, fontsize=10, alpha=0.5,\n",
    "                               colormap=colors1, axes=axis)\n",
    "patch1 = mpatches.Patch(color='red', label='Control')\n",
    "patch2 = mpatches.Patch(color=matplotlib.cm.Set2.colors[0], label='Patient')\n",
    "axis.legend(handles=[patch1, patch2])\n",
    "axis.set_title('H0 and H1. Both patients (AD + LMCI) and controls')"
   ]
  },
  {
   "cell_type": "code",
   "execution_count": null,
   "id": "774833bf",
   "metadata": {},
   "outputs": [],
   "source": [
    "print(data_genes_control.matrix.mean(), data_genes_AD.matrix.mean())"
   ]
  },
  {
   "cell_type": "code",
   "execution_count": null,
   "id": "34e788b2",
   "metadata": {},
   "outputs": [],
   "source": [
    "data_genes_control.matrix.shape"
   ]
  },
  {
   "cell_type": "markdown",
   "id": "5d3b8163",
   "metadata": {},
   "source": [
    "# Distance"
   ]
  },
  {
   "cell_type": "code",
   "execution_count": null,
   "id": "741d4758",
   "metadata": {},
   "outputs": [],
   "source": [
    "from gudhi import hera"
   ]
  },
  {
   "cell_type": "code",
   "execution_count": null,
   "id": "5392553d",
   "metadata": {},
   "outputs": [],
   "source": [
    "gudhi.hera.wasserstein_distance(intervals_array_control_1, intervals_array_patient_1,\n",
    "                                order = 1, internal_p = np.inf, delta = 0.01)"
   ]
  },
  {
   "cell_type": "code",
   "execution_count": null,
   "id": "ed9a18fa",
   "metadata": {},
   "outputs": [],
   "source": [
    "gudhi.hera.wasserstein_distance(intervals_array_control_0, intervals_array_patient_0,\n",
    "                                order = 1, internal_p = np.inf, delta = 0.01)"
   ]
  },
  {
   "cell_type": "code",
   "execution_count": null,
   "id": "40bd24f0",
   "metadata": {},
   "outputs": [],
   "source": [
    "gudhi.bottleneck_distance(intervals_array_control_1, intervals_array_patient_1, e=0)"
   ]
  },
  {
   "cell_type": "code",
   "execution_count": null,
   "id": "d385d1a1",
   "metadata": {},
   "outputs": [],
   "source": [
    "gudhi.bottleneck_distance(intervals_array_control_0, intervals_array_patient_0, e=0)"
   ]
  },
  {
   "cell_type": "markdown",
   "id": "a07b7d9e",
   "metadata": {},
   "source": [
    "# Saving"
   ]
  },
  {
   "cell_type": "markdown",
   "id": "2285c55f",
   "metadata": {},
   "source": [
    "### Weights"
   ]
  },
  {
   "cell_type": "code",
   "execution_count": null,
   "id": "c025a243",
   "metadata": {},
   "outputs": [],
   "source": [
    "matrix_control = data_genes_control.matrix.copy()\n",
    "np.fill_diagonal(matrix_control, np.nan)\n",
    "matrix_control"
   ]
  },
  {
   "cell_type": "code",
   "execution_count": null,
   "id": "46a34e68",
   "metadata": {},
   "outputs": [],
   "source": [
    "matrix_AD = data_genes_AD.matrix.copy()\n",
    "np.fill_diagonal(matrix_AD, np.nan)\n",
    "matrix_AD"
   ]
  },
  {
   "cell_type": "markdown",
   "id": "341e358b",
   "metadata": {},
   "source": [
    "Save distributions"
   ]
  },
  {
   "cell_type": "code",
   "execution_count": null,
   "id": "c11997db",
   "metadata": {},
   "outputs": [],
   "source": [
    "hist_AD = plt.hist(matrix_AD.flatten(),bins=50)"
   ]
  },
  {
   "cell_type": "code",
   "execution_count": null,
   "id": "1f4070cf",
   "metadata": {},
   "outputs": [],
   "source": [
    "hist_control = plt.hist(matrix_control.flatten(),bins=50)"
   ]
  },
  {
   "cell_type": "code",
   "execution_count": null,
   "id": "ad94203d",
   "metadata": {},
   "outputs": [],
   "source": [
    "np.save(f'{dataset_name}/diagrams/hist_control_0.npy', hist_control[0])\n",
    "np.save(f'{dataset_name}/diagrams/hist_AD_0.npy', hist_AD[0])\n",
    "np.save(f'{dataset_name}/diagrams/hist_control_1.npy', hist_control[1])\n",
    "np.save(f'{dataset_name}/diagrams/hist_AD_1.npy', hist_AD[1])"
   ]
  },
  {
   "cell_type": "markdown",
   "id": "5bf35da5",
   "metadata": {},
   "source": [
    "Save diagrams"
   ]
  },
  {
   "cell_type": "code",
   "execution_count": null,
   "id": "8d7f7aff",
   "metadata": {},
   "outputs": [],
   "source": [
    "np.save(f'{dataset_name}/diagrams/control_diagram_0.npy', data_genes_control.get_persistence_intervals(0))\n",
    "np.save(f'{dataset_name}/diagrams/control_diagram_1.npy', data_genes_control.get_persistence_intervals(1))\n",
    "np.save(f'{dataset_name}/diagrams/AD_diagram_0.npy', data_genes_AD.get_persistence_intervals(0))\n",
    "np.save(f'{dataset_name}/diagrams/AD_diagram_1.npy', data_genes_AD.get_persistence_intervals(1))"
   ]
  },
  {
   "cell_type": "code",
   "execution_count": null,
   "id": "24e96f5b",
   "metadata": {},
   "outputs": [],
   "source": []
  }
 ],
 "metadata": {
  "kernelspec": {
   "display_name": "Python 3 (ipykernel)",
   "language": "python",
   "name": "python3"
  },
  "language_info": {
   "codemirror_mode": {
    "name": "ipython",
    "version": 3
   },
   "file_extension": ".py",
   "mimetype": "text/x-python",
   "name": "python",
   "nbconvert_exporter": "python",
   "pygments_lexer": "ipython3",
   "version": "3.9.13"
  }
 },
 "nbformat": 4,
 "nbformat_minor": 5
}
